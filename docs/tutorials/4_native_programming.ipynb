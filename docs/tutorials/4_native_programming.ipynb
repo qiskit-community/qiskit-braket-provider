{
  "cells": [
    {
      "cell_type": "markdown",
      "metadata": {},
      "source": [
        "# Native Programming"
      ]
    },
    {
      "cell_type": "markdown",
      "metadata": {},
      "source": [
        "When working with quantum circuits, you'll encounter situations where you need your code to run exactly as written, without the compiler making any \"helpful\" optimizations. Think of it like this: imagine you're following a precise recipe where every step matters, and you don't want someone rearranging your ingredients or skipping steps they think are unnecessary. This is where verbatim compilation becomes essential. There are several compelling use cases: when benchmarking quantum hardware, you need precise control over which specific gates execute on the device since any compiler optimizations could introduce variables that make your performance measurements meaningless. In error mitigation protocols, you might need to insert what looks like redundant operations that a smart compiler would normally remove, but these \"extra\" steps are actually crucial for techniques like zero-noise extrapolation to work properly. For quantum error correction, the exact placement and timing of gates is critical for syndrome extraction and correction operations to work efficiently. Additionally, calibration and characterization experiments require verbatim execution because you're often testing specific gate implementations or noise properties that would be obscured if the compiler substitutes different gates. Advanced quantum protocols like dynamical decoupling or composite pulse sequences also need precise timing and gate ordering preserved exactly as programmed to maintain their effectiveness. To prevent the compiler from modifying your circuits, you can use AWS Braket's #pragma braket verbatim directive around the critical sections of your OpenQASM code, or if you're using the Qiskit-Braket provider, simply set verbatim=True in your backend's run method to tell the system \"hands off – run this exactly as I wrote it.\""
      ]
    },
    {
      "cell_type": "code",
      "execution_count": null,
      "metadata": {},
      "outputs": [],
      "source": [
        "# General imports\n",
        "import networkx as nx\n",
        "from math import pi\n",
        "import matplotlib.pyplot as plt\n",
        "import networkx as nx\n",
        "from braket.tracking import Tracker\n",
        "from qiskit_braket_provider import BraketProvider\n",
        "from qiskit import QuantumCircuit\n",
        "from qiskit_ionq import GPIGate, GPI2Gate, MSGate\n",
        "t = Tracker().start()"
      ]
    },
    {
      "cell_type": "markdown",
      "metadata": {},
      "source": [
        "### Function for Plotting Coupling map"
      ]
    },
    {
      "cell_type": "code",
      "execution_count": null,
      "metadata": {},
      "outputs": [],
      "source": [
        "def plot_coupling_map(coupling_map, title=\"Coupling Map\", figsize=(6, 4)):\n",
        "    \"\"\"\n",
        "    Plots the coupling map of a quantum device using NetworkX's kamada_kawai layout.\n",
        "\n",
        "    Parameters:\n",
        "    - coupling_map: List of tuples representing the edges (qubit connections).\n",
        "    - title: Title of the plot (optional).\n",
        "    - figsize: Size of the figure (optional).\n",
        "    \"\"\"\n",
        "    G = nx.Graph()\n",
        "    G.add_edges_from(coupling_map)\n",
        "    \n",
        "    plt.figure(figsize=figsize)\n",
        "    nx.draw_kamada_kawai(\n",
        "        G,\n",
        "        with_labels=True,\n",
        "        font_color=\"white\",\n",
        "        arrows=True,\n",
        "        arrowsize=30,\n",
        "    )\n",
        "    plt.title(title)\n",
        "    plt.show()"
      ]
    },
    {
      "cell_type": "markdown",
      "metadata": {},
      "source": [
        "### Set up the Braket Provider\n",
        "\n",
        "This step initializes the Braket provider and lists all available backends. These are the quantum devices or simulators that you can use."
      ]
    },
    {
      "cell_type": "code",
      "execution_count": null,
      "metadata": {},
      "outputs": [],
      "source": [
        "provider = BraketProvider()\n",
        "backends = provider.backends()\n",
        "print(backends)"
      ]
    },
    {
      "cell_type": "markdown",
      "metadata": {},
      "source": [
        "# Superconducting Qubits based Quantum Systems "
      ]
    },
    {
      "cell_type": "markdown",
      "metadata": {},
      "source": [
        "## Ankaa -3"
      ]
    },
    {
      "cell_type": "markdown",
      "metadata": {},
      "source": [
        "### Native Gates"
      ]
    },
    {
      "cell_type": "markdown",
      "metadata": {},
      "source": [
        "Retrieve the native gate set supported by the Ankaa-3 device. This includes only those gates that are natively implemented in hardware."
      ]
    },
    {
      "cell_type": "code",
      "execution_count": null,
      "metadata": {},
      "outputs": [],
      "source": [
        "Ankaa_3 = provider.get_backend(\"Ankaa-3\")\n",
        "ankaa_supported_gates = Ankaa_3.get_gateset(native=True)\n",
        "print(ankaa_supported_gates)"
      ]
    },
    {
      "cell_type": "markdown",
      "metadata": {},
      "source": [
        "### Coupling Map"
      ]
    },
    {
      "cell_type": "markdown",
      "metadata": {},
      "source": [
        "### Visualize Ankaa-3 Coupling Map\n",
        "\n",
        "This code block extracts and plots the connectivity (coupling map) of qubits for the Ankaa-3 quantum device."
      ]
    },
    {
      "cell_type": "code",
      "execution_count": null,
      "metadata": {},
      "outputs": [],
      "source": [
        "plot_coupling_map(Ankaa_3.coupling_map, title=\"Ankaa-3 Coupling Map\")"
      ]
    },
    {
      "cell_type": "markdown",
      "metadata": {},
      "source": [
        "## IQM's Garnet"
      ]
    },
    {
      "cell_type": "markdown",
      "metadata": {},
      "source": [
        "Retrieve the native gate set supported by the Garnet device. This includes only those gates that are natively implemented in hardware."
      ]
    },
    {
      "cell_type": "code",
      "execution_count": null,
      "metadata": {},
      "outputs": [],
      "source": [
        "garnet = provider.get_backend(\"Garnet\")\n",
        "garnet_supported_gates = garnet.get_gateset(native=True)\n",
        "print(garnet_supported_gates)"
      ]
    },
    {
      "cell_type": "markdown",
      "metadata": {},
      "source": [
        "### Visualize Garnet Coupling Map\n",
        "\n",
        "This code block extracts and plots the connectivity (coupling map) of qubits for the Garnet quantum device."
      ]
    },
    {
      "cell_type": "code",
      "execution_count": null,
      "metadata": {},
      "outputs": [],
      "source": [
        "plot_coupling_map(garnet.coupling_map, title=\"Garnet Coupling Map\")"
      ]
    },
    {
      "cell_type": "markdown",
      "metadata": {},
      "source": [
        "# Trapped Ion Based Quantum Systems"
      ]
    },
    {
      "cell_type": "markdown",
      "metadata": {},
      "source": [
        "## IonQ's Aria-1 "
      ]
    },
    {
      "cell_type": "markdown",
      "metadata": {},
      "source": [
        "### Native Gates"
      ]
    },
    {
      "cell_type": "markdown",
      "metadata": {},
      "source": [
        "Retrieve the native gate set supported by the Aria-1 device. This includes only those gates that are natively implemented in hardware."
      ]
    },
    {
      "cell_type": "code",
      "execution_count": null,
      "metadata": {},
      "outputs": [],
      "source": [
        "Aria_1 = provider.get_backend(\"Aria 1\")\n",
        "aria_supported_gates = Aria_1.get_gateset(native=True)\n",
        "print(aria_supported_gates)"
      ]
    },
    {
      "cell_type": "markdown",
      "metadata": {
        "execution": {
          "iopub.execute_input": "2025-05-28T18:19:16.699453Z",
          "iopub.status.busy": "2025-05-28T18:19:16.699050Z",
          "iopub.status.idle": "2025-05-28T18:19:16.701816Z",
          "shell.execute_reply": "2025-05-28T18:19:16.701314Z",
          "shell.execute_reply.started": "2025-05-28T18:19:16.699434Z"
        }
      },
      "source": [
        "### Coupling Map"
      ]
    },
    {
      "cell_type": "code",
      "execution_count": null,
      "metadata": {},
      "outputs": [],
      "source": [
        "plot_coupling_map(Aria_1.coupling_map, title=\"Aria-1 Coupling Map\")"
      ]
    },
    {
      "cell_type": "markdown",
      "metadata": {},
      "source": [
        "### Running Normally on Aria-1 Quantum Hardware"
      ]
    },
    {
      "cell_type": "markdown",
      "metadata": {},
      "source": [
        "Let's try creating bell state $$|\\Phi^+\\rangle = \\frac{1}{\\sqrt{2}}(|00\\rangle + |11\\rangle)$$ \n",
        "Can be created using a simple two-gate quantum circuit. Starting with both qubits in the $|00\\rangle$ state, first apply a Hadamard gate to the first qubit to create the superposition on $\\frac{1}{\\sqrt{2}}(|0\\rangle + |1\\rangle)$, then apply a CNOT gate with the first qubit as control and second as target. The Hadamard gate puts the first qubit into an equal superposition of $|0\\rangle$ and $|1\\rangle$, while the subsequent CNOT gate entangles the qubits by flipping the second qubit only when the first is in state $|1\\rangle$, resulting in the maximally entangled Bell state where both qubits are perfectly correlated."
      ]
    },
    {
      "cell_type": "code",
      "execution_count": null,
      "metadata": {},
      "outputs": [],
      "source": [
        "circuit = QuantumCircuit(2)\n",
        "circuit.h(0)\n",
        "circuit.cx(0, 1)\n",
        "circuit.draw(output='mpl')\n",
        "#result = Aria_1.run(circuit, shots=10)\n",
        "#plot_histogram(result.result().get_counts())"
      ]
    },
    {
      "cell_type": "markdown",
      "metadata": {
        "execution": {
          "iopub.execute_input": "2025-05-29T07:12:51.862011Z",
          "iopub.status.busy": "2025-05-29T07:12:51.861697Z",
          "iopub.status.idle": "2025-05-29T07:12:51.868670Z",
          "shell.execute_reply": "2025-05-29T07:12:51.867413Z",
          "shell.execute_reply.started": "2025-05-29T07:12:51.861984Z"
        }
      },
      "source": [
        "When circuits use non-native gates, they must be automatically decomposed into hardware-supported operations, which increases circuit depth, introduces additional noise, and reduces fidelity. By designing circuits with native gates in mind, programmers can minimize decomposition overhead, reduce execution time, and achieve higher-quality results. Additionally, using native gates provides \"what-you-submit-is-what-you-get control\" by bypassing compiler optimizations."
      ]
    },
    {
      "cell_type": "markdown",
      "metadata": {},
      "source": [
        "### Running with Native Gates & Verbatim Compilation"
      ]
    },
    {
      "cell_type": "code",
      "execution_count": null,
      "metadata": {},
      "outputs": [],
      "source": [
        "native_circuit=QuantumCircuit(2)\n",
        "native_circuit.append(GPIGate(0), [0])\n",
        "native_circuit.append(MSGate(0, 0,0.25), [0, 1])\n",
        "native_circuit.append(GPI2Gate(0.5), [1])\n",
        "native_circuit.append(GPI2Gate(0.5), [0])\n",
        "native_circuit.append(GPI2Gate(0.25), [0])\n",
        "native_circuit.draw('mpl')"
      ]
    },
    {
      "cell_type": "code",
      "execution_count": null,
      "metadata": {},
      "outputs": [],
      "source": [
        "#Aria_1.run(native_circuit, verbatim=True)"
      ]
    },
    {
      "cell_type": "markdown",
      "metadata": {},
      "source": [
        "## Conclusion \n",
        "This notebook introduced the basic functionality of verbatim compilation of Amazon Braket, that allows you to run circuits or subcircuits to be executed exactly as defined without any compiler modifications."
      ]
    },
    {
      "cell_type": "code",
      "execution_count": null,
      "metadata": {},
      "outputs": [],
      "source": [
        "print(\"Quantum Task Summary\")\n",
        "print(t.quantum_tasks_statistics())\n",
        "print(\n",
        "    \"Note: Charges shown are estimates based on your Amazon Braket simulator and quantum processing unit (QPU) task usage. Estimated charges shown may differ from your actual charges. Estimated charges do not factor in any discounts or credits, and you may experience additional charges based on your use of other services such as Amazon Elastic Compute Cloud (Amazon EC2).\",\n",
        ")\n",
        "print(\n",
        "    f\"Estimated cost to run this example: {t.qpu_tasks_cost() + t.simulator_tasks_cost():.3f} USD\",\n",
        ")"
      ]
    }
  ],
  "metadata": {
    "kernelspec": {
      "display_name": "Python 3 (ipykernel)",
      "language": "python",
      "name": "python3"
    },
    "language_info": {
      "codemirror_mode": {
        "name": "ipython",
        "version": 3
      },
      "file_extension": ".py",
      "mimetype": "text/x-python",
      "name": "python",
      "nbconvert_exporter": "python",
      "pygments_lexer": "ipython3",
      "version": "3.13.0"
    }
  },
  "nbformat": 4,
  "nbformat_minor": 4
}
