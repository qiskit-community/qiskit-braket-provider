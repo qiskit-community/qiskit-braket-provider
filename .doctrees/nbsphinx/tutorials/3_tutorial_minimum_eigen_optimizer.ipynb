{
 "cells": [
  {
   "attachments": {},
   "cell_type": "markdown",
   "metadata": {},
   "source": [
    "# Minimum Eigen Optimizer\n"
   ]
  },
  {
   "cell_type": "markdown",
   "metadata": {},
   "source": [
    "## About this notebook and the adaptation to Amazon Braket backend\n",
    "The original version of this notebook is accessible at [docs/tutorials/03_minimum_eigen_optimizer.ipynb](https://github.com/qiskit-community/qiskit-optimization/blob/stable/0.6/docs/tutorials/03_minimum_eigen_optimizer.ipynb). The only changes made to the original notebook are contained in the first cell and in cell #6 where we pass the `BackendSampler` object to execute the tasks on Amazon Braket SV1 simulator."
   ]
  },
  {
   "cell_type": "code",
   "execution_count": null,
   "metadata": {
    "ExecuteTime": {
     "end_time": "2024-03-06T06:20:27.376670Z",
     "start_time": "2024-03-06T06:20:22.831320Z"
    }
   },
   "outputs": [],
   "source": [
    "from qiskit.primitives import BackendSamplerV2\n",
    "\n",
    "from qiskit_braket_provider import BraketProvider\n",
    "\n",
    "sampler = BackendSamplerV2(\n",
    "    backend=BraketProvider().get_backend(\"SV1\"),\n",
    ")"
   ]
  },
  {
   "attachments": {},
   "cell_type": "markdown",
   "metadata": {},
   "source": [
    "## Introduction"
   ]
  },
  {
   "attachments": {},
   "cell_type": "markdown",
   "metadata": {},
   "source": [
    "An interesting class of optimization problems to be addressed by quantum computing are Quadratic Unconstrained Binary Optimization (QUBO) problems.\n",
    "Finding the solution to a QUBO is equivalent to finding the ground state of a corresponding Ising Hamiltonian, which is an important problem not only in optimization, but also in quantum chemistry and physics. For this translation, the binary variables taking values in $\\{0, 1\\}$ are replaced by spin variables taking values in $\\{-1, +1\\}$, which allows one to replace the resulting spin variables by Pauli Z matrices, and thus, an Ising Hamiltonian. For more details on this mapping we refer to [1].\n",
    "\n",
    "Qiskit optimization provides automatic conversion from a suitable `QuadraticProgram` to an Ising Hamiltonian, which then allows leveraging all the `SamplingMinimumEigensolver` implementations, such as\n",
    "\n",
    "- `SamplingVQE`,\n",
    "- `QAOA`, or\n",
    "- `NumpyMinimumEigensolver` (classical exact method).\n",
    "\n",
    "Note 1: `MinimumEigenOptimizer` does not support `qiskit_algorithms.VQE`. But `qiskit_algorithms.SamplingVQE`\n",
    "can be used instead.\n",
    "\n",
    "Note 2: `MinimumEigenOptimizer` can use `NumpyMinimumEigensolver` as an exception case though it inherits `MinimumEigensolver` (not `SamplingMinimumEigensolver`).\n",
    "\n",
    "Qiskit optimization provides a the `MinimumEigenOptimizer` class, which wraps the translation to an Ising Hamiltonian (in Qiskit Terra also called `SparsePauliOp`), the call to a `MinimumEigensolver`, and the translation of the results back to an `OptimizationResult`.\n",
    "\n",
    "In the following we first illustrate the conversion from a `QuadraticProgram` to a `SparsePauliOp` and then show how to use the `MinimumEigenOptimizer` with different `MinimumEigensolver`s to solve a given `QuadraticProgram`.\n",
    "The algorithms in Qiskit optimization automatically try to convert a given problem to the supported problem class if possible, for instance, the `MinimumEigenOptimizer` will automatically translate integer variables to binary variables or add linear equality constraints as a quadratic penalty term to the objective. It should be mentioned that a `QiskitOptimizationError` will be thrown if conversion of a quadratic program with integer variables is attempted.\n",
    "\n",
    "The circuit depth of `QAOA` potentially has to be increased with the problem size, which might be prohibitive for near-term quantum devices.\n",
    "A possible workaround is Recursive QAOA, as introduced in [2].\n",
    "Qiskit optimization generalizes this concept to the `RecursiveMinimumEigenOptimizer`, which is introduced at the end of this tutorial.\n",
    "\n",
    "### References\n",
    "[1] [A. Lucas, *Ising formulations of many NP problems,* Front. Phys., 12 (2014).](https://arxiv.org/abs/1302.5843)\n",
    "\n",
    "[2] [S. Bravyi, A. Kliesch, R. Koenig, E. Tang, *Obstacles to State Preparation and Variational Optimization from Symmetry Protection,* arXiv  preprint arXiv:1910.08980 (2019).](https://arxiv.org/abs/1910.08980)"
   ]
  },
  {
   "attachments": {},
   "cell_type": "markdown",
   "metadata": {},
   "source": [
    "## Converting a QUBO to a SparsePauliOp"
   ]
  },
  {
   "cell_type": "code",
   "execution_count": 2,
   "metadata": {
    "ExecuteTime": {
     "end_time": "2024-03-06T06:20:28.106501Z",
     "start_time": "2024-03-06T06:20:27.379478Z"
    }
   },
   "outputs": [],
   "source": [
    "from typing import List, Tuple\n",
    "\n",
    "import numpy as np\n",
    "from qiskit.visualization import plot_histogram\n",
    "from qiskit_optimization import QuadraticProgram\n",
    "from qiskit_optimization.algorithms import (\n",
    "    MinimumEigenOptimizer,\n",
    "    OptimizationResultStatus,\n",
    "    RecursiveMinimumEigenOptimizer,\n",
    "    SolutionSample,\n",
    ")\n",
    "from qiskit_optimization.minimum_eigensolvers import QAOA, NumPyMinimumEigensolver\n",
    "from qiskit_optimization.optimizers import COBYLA\n",
    "from qiskit_optimization.utils import algorithm_globals"
   ]
  },
  {
   "cell_type": "code",
   "execution_count": 3,
   "metadata": {
    "ExecuteTime": {
     "end_time": "2024-03-06T06:20:28.112908Z",
     "start_time": "2024-03-06T06:20:28.107086Z"
    }
   },
   "outputs": [
    {
     "name": "stdout",
     "output_type": "stream",
     "text": [
      "Problem name: \n",
      "\n",
      "Minimize\n",
      "  x*y - x*z + 2*y*z + x - 2*y + 3*z\n",
      "\n",
      "Subject to\n",
      "  No constraints\n",
      "\n",
      "  Binary variables (3)\n",
      "    x y z\n",
      "\n"
     ]
    }
   ],
   "source": [
    "# create a QUBO\n",
    "qubo = QuadraticProgram()\n",
    "qubo.binary_var(\"x\")\n",
    "qubo.binary_var(\"y\")\n",
    "qubo.binary_var(\"z\")\n",
    "qubo.minimize(linear=[1, -2, 3], quadratic={(\"x\", \"y\"): 1, (\"x\", \"z\"): -1, (\"y\", \"z\"): 2})\n",
    "print(qubo.prettyprint())"
   ]
  },
  {
   "attachments": {},
   "cell_type": "markdown",
   "metadata": {},
   "source": [
    "Next we translate this QUBO into an Ising operator. This results not only in a `SparsePauliOp` but also in a constant offset to be taken into account to shift the resulting value."
   ]
  },
  {
   "cell_type": "code",
   "execution_count": 4,
   "metadata": {
    "ExecuteTime": {
     "end_time": "2024-03-06T06:20:28.118283Z",
     "start_time": "2024-03-06T06:20:28.114211Z"
    }
   },
   "outputs": [
    {
     "name": "stdout",
     "output_type": "stream",
     "text": [
      "offset: 1.5\n",
      "operator:\n",
      "SparsePauliOp(['IIZ', 'IZI', 'ZII', 'IZZ', 'ZIZ', 'ZZI'],\n",
      "              coeffs=[-0.5 +0.j,  0.25+0.j, -1.75+0.j,  0.25+0.j, -0.25+0.j,  0.5 +0.j])\n"
     ]
    }
   ],
   "source": [
    "op, offset = qubo.to_ising()\n",
    "print(\"offset: {}\".format(offset))\n",
    "print(\"operator:\")\n",
    "print(op)"
   ]
  },
  {
   "attachments": {},
   "cell_type": "markdown",
   "metadata": {},
   "source": [
    "Sometimes a `QuadraticProgram` might also directly be given in the form of a `SparsePauliOp`. For such cases, Qiskit optimization also provides a translator from a `SparsePauliOp` back to a `QuadraticProgram`, which we illustrate in the following."
   ]
  },
  {
   "cell_type": "code",
   "execution_count": 5,
   "metadata": {
    "ExecuteTime": {
     "end_time": "2024-03-06T06:20:28.123093Z",
     "start_time": "2024-03-06T06:20:28.119163Z"
    }
   },
   "outputs": [
    {
     "name": "stdout",
     "output_type": "stream",
     "text": [
      "Problem name: \n",
      "\n",
      "Minimize\n",
      "  x0*x1 - x0*x2 + 2*x1*x2 + x0 - 2*x1 + 3*x2\n",
      "\n",
      "Subject to\n",
      "  No constraints\n",
      "\n",
      "  Binary variables (3)\n",
      "    x0 x1 x2\n",
      "\n"
     ]
    }
   ],
   "source": [
    "qp = QuadraticProgram()\n",
    "qp.from_ising(op, offset, linear=True)\n",
    "print(qp.prettyprint())"
   ]
  },
  {
   "attachments": {},
   "cell_type": "markdown",
   "metadata": {},
   "source": [
    "This translator allows, for instance, one to translate a `SparsePauliOp` to a `QuadraticProgram` and then solve the problem with other algorithms that are not based on the Ising Hamiltonian representation, such as the `GroverOptimizer`."
   ]
  },
  {
   "attachments": {},
   "cell_type": "markdown",
   "metadata": {},
   "source": [
    "## Solving a QUBO with the MinimumEigenOptimizer"
   ]
  },
  {
   "cell_type": "markdown",
   "metadata": {},
   "source": [
    "We start by initializing the `MinimumEigensolver` we want to use."
   ]
  },
  {
   "cell_type": "code",
   "execution_count": 6,
   "metadata": {
    "ExecuteTime": {
     "end_time": "2024-03-06T06:20:28.126319Z",
     "start_time": "2024-03-06T06:20:28.123842Z"
    }
   },
   "outputs": [
    {
     "name": "stderr",
     "output_type": "stream",
     "text": [
      "/Users/sesmart/.local/share/mise/installs/python/3.12.10/lib/python3.12/site-packages/qiskit_optimization/minimum_eigensolvers/qaoa.py:122: UserWarning: Using Sampler V2 (other than StatevectorSampler) without a pass_manager may result in an error. Consider providing a pass_manager for proper circuit transpilation.\n",
      "  super().__init__(\n"
     ]
    }
   ],
   "source": [
    "algorithm_globals.random_seed = 10598\n",
    "qaoa_mes = QAOA(sampler=sampler, optimizer=COBYLA(), initial_point=[0.0, 0.0])\n",
    "exact_mes = NumPyMinimumEigensolver()"
   ]
  },
  {
   "attachments": {},
   "cell_type": "markdown",
   "metadata": {},
   "source": [
    "Then, we use the `MinimumEigensolver` to create `MinimumEigenOptimizer`."
   ]
  },
  {
   "cell_type": "code",
   "execution_count": 7,
   "metadata": {
    "ExecuteTime": {
     "end_time": "2024-03-06T06:20:28.129084Z",
     "start_time": "2024-03-06T06:20:28.127160Z"
    }
   },
   "outputs": [],
   "source": [
    "qaoa = MinimumEigenOptimizer(qaoa_mes)  # using QAOA\n",
    "exact = MinimumEigenOptimizer(exact_mes)  # using the exact classical numpy minimum eigen solver"
   ]
  },
  {
   "attachments": {},
   "cell_type": "markdown",
   "metadata": {},
   "source": [
    "We first use the `MinimumEigenOptimizer` based on the classical exact `NumPyMinimumEigensolver` to get the optimal benchmark solution for this small example."
   ]
  },
  {
   "cell_type": "code",
   "execution_count": 8,
   "metadata": {
    "ExecuteTime": {
     "end_time": "2024-03-06T06:20:28.140826Z",
     "start_time": "2024-03-06T06:20:28.129858Z"
    }
   },
   "outputs": [
    {
     "name": "stdout",
     "output_type": "stream",
     "text": [
      "objective function value: -2.0\n",
      "variable values: x=0.0, y=1.0, z=0.0\n",
      "status: SUCCESS\n"
     ]
    }
   ],
   "source": [
    "exact_result = exact.solve(qubo)\n",
    "print(exact_result.prettyprint())"
   ]
  },
  {
   "attachments": {},
   "cell_type": "markdown",
   "metadata": {},
   "source": [
    "Next we apply the `MinimumEigenOptimizer` based on `QAOA` to the same problem."
   ]
  },
  {
   "cell_type": "code",
   "execution_count": 9,
   "metadata": {},
   "outputs": [
    {
     "data": {
      "text/plain": [
       "<qiskit_optimization.algorithms.minimum_eigen_optimizer.MinimumEigenOptimizer at 0x15f4fef60>"
      ]
     },
     "execution_count": 9,
     "metadata": {},
     "output_type": "execute_result"
    }
   ],
   "source": [
    "qaoa"
   ]
  },
  {
   "cell_type": "code",
   "execution_count": 10,
   "metadata": {
    "ExecuteTime": {
     "end_time": "2024-03-06T06:22:25.762902Z",
     "start_time": "2024-03-06T06:20:28.141722Z"
    }
   },
   "outputs": [
    {
     "name": "stderr",
     "output_type": "stream",
     "text": [
      "/Users/sesmart/coding/development/qiskit-braket-provider/qiskit_braket_provider/providers/adapter.py:673: UserWarning: The Qiskit circuit contains barrier instructions that are ignored.\n",
      "  warnings.warn(\"The Qiskit circuit contains barrier instructions that are ignored.\")\n",
      "/Users/sesmart/.local/share/mise/installs/python/3.12.10/lib/python3.12/site-packages/braket/aws/aws_quantum_task.py:774: UserWarning: AwsQuantumTask.__init__ received unknown keyword args: ['memory', 'seed_simulator']\n",
      "  return AwsQuantumTask(task_arn, aws_session, *args, **kwargs)\n",
      "/Users/sesmart/coding/development/qiskit-braket-provider/qiskit_braket_provider/providers/adapter.py:673: UserWarning: The Qiskit circuit contains barrier instructions that are ignored.\n",
      "  warnings.warn(\"The Qiskit circuit contains barrier instructions that are ignored.\")\n",
      "/Users/sesmart/.local/share/mise/installs/python/3.12.10/lib/python3.12/site-packages/braket/aws/aws_quantum_task.py:774: UserWarning: AwsQuantumTask.__init__ received unknown keyword args: ['memory', 'seed_simulator']\n",
      "  return AwsQuantumTask(task_arn, aws_session, *args, **kwargs)\n",
      "/Users/sesmart/coding/development/qiskit-braket-provider/qiskit_braket_provider/providers/adapter.py:673: UserWarning: The Qiskit circuit contains barrier instructions that are ignored.\n",
      "  warnings.warn(\"The Qiskit circuit contains barrier instructions that are ignored.\")\n",
      "/Users/sesmart/.local/share/mise/installs/python/3.12.10/lib/python3.12/site-packages/braket/aws/aws_quantum_task.py:774: UserWarning: AwsQuantumTask.__init__ received unknown keyword args: ['memory', 'seed_simulator']\n",
      "  return AwsQuantumTask(task_arn, aws_session, *args, **kwargs)\n",
      "/Users/sesmart/coding/development/qiskit-braket-provider/qiskit_braket_provider/providers/adapter.py:673: UserWarning: The Qiskit circuit contains barrier instructions that are ignored.\n",
      "  warnings.warn(\"The Qiskit circuit contains barrier instructions that are ignored.\")\n",
      "/Users/sesmart/.local/share/mise/installs/python/3.12.10/lib/python3.12/site-packages/braket/aws/aws_quantum_task.py:774: UserWarning: AwsQuantumTask.__init__ received unknown keyword args: ['memory', 'seed_simulator']\n",
      "  return AwsQuantumTask(task_arn, aws_session, *args, **kwargs)\n",
      "/Users/sesmart/coding/development/qiskit-braket-provider/qiskit_braket_provider/providers/adapter.py:673: UserWarning: The Qiskit circuit contains barrier instructions that are ignored.\n",
      "  warnings.warn(\"The Qiskit circuit contains barrier instructions that are ignored.\")\n",
      "/Users/sesmart/.local/share/mise/installs/python/3.12.10/lib/python3.12/site-packages/braket/aws/aws_quantum_task.py:774: UserWarning: AwsQuantumTask.__init__ received unknown keyword args: ['memory', 'seed_simulator']\n",
      "  return AwsQuantumTask(task_arn, aws_session, *args, **kwargs)\n",
      "/Users/sesmart/coding/development/qiskit-braket-provider/qiskit_braket_provider/providers/adapter.py:673: UserWarning: The Qiskit circuit contains barrier instructions that are ignored.\n",
      "  warnings.warn(\"The Qiskit circuit contains barrier instructions that are ignored.\")\n",
      "/Users/sesmart/.local/share/mise/installs/python/3.12.10/lib/python3.12/site-packages/braket/aws/aws_quantum_task.py:774: UserWarning: AwsQuantumTask.__init__ received unknown keyword args: ['memory', 'seed_simulator']\n",
      "  return AwsQuantumTask(task_arn, aws_session, *args, **kwargs)\n",
      "/Users/sesmart/coding/development/qiskit-braket-provider/qiskit_braket_provider/providers/adapter.py:673: UserWarning: The Qiskit circuit contains barrier instructions that are ignored.\n",
      "  warnings.warn(\"The Qiskit circuit contains barrier instructions that are ignored.\")\n",
      "/Users/sesmart/.local/share/mise/installs/python/3.12.10/lib/python3.12/site-packages/braket/aws/aws_quantum_task.py:774: UserWarning: AwsQuantumTask.__init__ received unknown keyword args: ['memory', 'seed_simulator']\n",
      "  return AwsQuantumTask(task_arn, aws_session, *args, **kwargs)\n",
      "/Users/sesmart/coding/development/qiskit-braket-provider/qiskit_braket_provider/providers/adapter.py:673: UserWarning: The Qiskit circuit contains barrier instructions that are ignored.\n",
      "  warnings.warn(\"The Qiskit circuit contains barrier instructions that are ignored.\")\n",
      "/Users/sesmart/.local/share/mise/installs/python/3.12.10/lib/python3.12/site-packages/braket/aws/aws_quantum_task.py:774: UserWarning: AwsQuantumTask.__init__ received unknown keyword args: ['memory', 'seed_simulator']\n",
      "  return AwsQuantumTask(task_arn, aws_session, *args, **kwargs)\n",
      "/Users/sesmart/coding/development/qiskit-braket-provider/qiskit_braket_provider/providers/adapter.py:673: UserWarning: The Qiskit circuit contains barrier instructions that are ignored.\n",
      "  warnings.warn(\"The Qiskit circuit contains barrier instructions that are ignored.\")\n",
      "/Users/sesmart/.local/share/mise/installs/python/3.12.10/lib/python3.12/site-packages/braket/aws/aws_quantum_task.py:774: UserWarning: AwsQuantumTask.__init__ received unknown keyword args: ['memory', 'seed_simulator']\n",
      "  return AwsQuantumTask(task_arn, aws_session, *args, **kwargs)\n",
      "/Users/sesmart/coding/development/qiskit-braket-provider/qiskit_braket_provider/providers/adapter.py:673: UserWarning: The Qiskit circuit contains barrier instructions that are ignored.\n",
      "  warnings.warn(\"The Qiskit circuit contains barrier instructions that are ignored.\")\n",
      "/Users/sesmart/.local/share/mise/installs/python/3.12.10/lib/python3.12/site-packages/braket/aws/aws_quantum_task.py:774: UserWarning: AwsQuantumTask.__init__ received unknown keyword args: ['memory', 'seed_simulator']\n",
      "  return AwsQuantumTask(task_arn, aws_session, *args, **kwargs)\n",
      "/Users/sesmart/coding/development/qiskit-braket-provider/qiskit_braket_provider/providers/adapter.py:673: UserWarning: The Qiskit circuit contains barrier instructions that are ignored.\n",
      "  warnings.warn(\"The Qiskit circuit contains barrier instructions that are ignored.\")\n",
      "/Users/sesmart/.local/share/mise/installs/python/3.12.10/lib/python3.12/site-packages/braket/aws/aws_quantum_task.py:774: UserWarning: AwsQuantumTask.__init__ received unknown keyword args: ['memory', 'seed_simulator']\n",
      "  return AwsQuantumTask(task_arn, aws_session, *args, **kwargs)\n",
      "/Users/sesmart/coding/development/qiskit-braket-provider/qiskit_braket_provider/providers/adapter.py:673: UserWarning: The Qiskit circuit contains barrier instructions that are ignored.\n",
      "  warnings.warn(\"The Qiskit circuit contains barrier instructions that are ignored.\")\n",
      "/Users/sesmart/.local/share/mise/installs/python/3.12.10/lib/python3.12/site-packages/braket/aws/aws_quantum_task.py:774: UserWarning: AwsQuantumTask.__init__ received unknown keyword args: ['memory', 'seed_simulator']\n",
      "  return AwsQuantumTask(task_arn, aws_session, *args, **kwargs)\n",
      "/Users/sesmart/coding/development/qiskit-braket-provider/qiskit_braket_provider/providers/adapter.py:673: UserWarning: The Qiskit circuit contains barrier instructions that are ignored.\n",
      "  warnings.warn(\"The Qiskit circuit contains barrier instructions that are ignored.\")\n",
      "/Users/sesmart/.local/share/mise/installs/python/3.12.10/lib/python3.12/site-packages/braket/aws/aws_quantum_task.py:774: UserWarning: AwsQuantumTask.__init__ received unknown keyword args: ['memory', 'seed_simulator']\n",
      "  return AwsQuantumTask(task_arn, aws_session, *args, **kwargs)\n",
      "/Users/sesmart/coding/development/qiskit-braket-provider/qiskit_braket_provider/providers/adapter.py:673: UserWarning: The Qiskit circuit contains barrier instructions that are ignored.\n",
      "  warnings.warn(\"The Qiskit circuit contains barrier instructions that are ignored.\")\n",
      "/Users/sesmart/.local/share/mise/installs/python/3.12.10/lib/python3.12/site-packages/braket/aws/aws_quantum_task.py:774: UserWarning: AwsQuantumTask.__init__ received unknown keyword args: ['memory', 'seed_simulator']\n",
      "  return AwsQuantumTask(task_arn, aws_session, *args, **kwargs)\n",
      "/Users/sesmart/coding/development/qiskit-braket-provider/qiskit_braket_provider/providers/adapter.py:673: UserWarning: The Qiskit circuit contains barrier instructions that are ignored.\n",
      "  warnings.warn(\"The Qiskit circuit contains barrier instructions that are ignored.\")\n",
      "/Users/sesmart/.local/share/mise/installs/python/3.12.10/lib/python3.12/site-packages/braket/aws/aws_quantum_task.py:774: UserWarning: AwsQuantumTask.__init__ received unknown keyword args: ['memory', 'seed_simulator']\n",
      "  return AwsQuantumTask(task_arn, aws_session, *args, **kwargs)\n",
      "/Users/sesmart/coding/development/qiskit-braket-provider/qiskit_braket_provider/providers/adapter.py:673: UserWarning: The Qiskit circuit contains barrier instructions that are ignored.\n",
      "  warnings.warn(\"The Qiskit circuit contains barrier instructions that are ignored.\")\n",
      "/Users/sesmart/.local/share/mise/installs/python/3.12.10/lib/python3.12/site-packages/braket/aws/aws_quantum_task.py:774: UserWarning: AwsQuantumTask.__init__ received unknown keyword args: ['memory', 'seed_simulator']\n",
      "  return AwsQuantumTask(task_arn, aws_session, *args, **kwargs)\n",
      "/Users/sesmart/coding/development/qiskit-braket-provider/qiskit_braket_provider/providers/adapter.py:673: UserWarning: The Qiskit circuit contains barrier instructions that are ignored.\n",
      "  warnings.warn(\"The Qiskit circuit contains barrier instructions that are ignored.\")\n",
      "/Users/sesmart/.local/share/mise/installs/python/3.12.10/lib/python3.12/site-packages/braket/aws/aws_quantum_task.py:774: UserWarning: AwsQuantumTask.__init__ received unknown keyword args: ['memory', 'seed_simulator']\n",
      "  return AwsQuantumTask(task_arn, aws_session, *args, **kwargs)\n",
      "/Users/sesmart/coding/development/qiskit-braket-provider/qiskit_braket_provider/providers/adapter.py:673: UserWarning: The Qiskit circuit contains barrier instructions that are ignored.\n",
      "  warnings.warn(\"The Qiskit circuit contains barrier instructions that are ignored.\")\n",
      "/Users/sesmart/.local/share/mise/installs/python/3.12.10/lib/python3.12/site-packages/braket/aws/aws_quantum_task.py:774: UserWarning: AwsQuantumTask.__init__ received unknown keyword args: ['memory', 'seed_simulator']\n",
      "  return AwsQuantumTask(task_arn, aws_session, *args, **kwargs)\n",
      "/Users/sesmart/coding/development/qiskit-braket-provider/qiskit_braket_provider/providers/adapter.py:673: UserWarning: The Qiskit circuit contains barrier instructions that are ignored.\n",
      "  warnings.warn(\"The Qiskit circuit contains barrier instructions that are ignored.\")\n",
      "/Users/sesmart/.local/share/mise/installs/python/3.12.10/lib/python3.12/site-packages/braket/aws/aws_quantum_task.py:774: UserWarning: AwsQuantumTask.__init__ received unknown keyword args: ['memory', 'seed_simulator']\n",
      "  return AwsQuantumTask(task_arn, aws_session, *args, **kwargs)\n",
      "/Users/sesmart/coding/development/qiskit-braket-provider/qiskit_braket_provider/providers/adapter.py:673: UserWarning: The Qiskit circuit contains barrier instructions that are ignored.\n",
      "  warnings.warn(\"The Qiskit circuit contains barrier instructions that are ignored.\")\n",
      "/Users/sesmart/.local/share/mise/installs/python/3.12.10/lib/python3.12/site-packages/braket/aws/aws_quantum_task.py:774: UserWarning: AwsQuantumTask.__init__ received unknown keyword args: ['memory', 'seed_simulator']\n",
      "  return AwsQuantumTask(task_arn, aws_session, *args, **kwargs)\n",
      "/Users/sesmart/coding/development/qiskit-braket-provider/qiskit_braket_provider/providers/adapter.py:673: UserWarning: The Qiskit circuit contains barrier instructions that are ignored.\n",
      "  warnings.warn(\"The Qiskit circuit contains barrier instructions that are ignored.\")\n",
      "/Users/sesmart/.local/share/mise/installs/python/3.12.10/lib/python3.12/site-packages/braket/aws/aws_quantum_task.py:774: UserWarning: AwsQuantumTask.__init__ received unknown keyword args: ['memory', 'seed_simulator']\n",
      "  return AwsQuantumTask(task_arn, aws_session, *args, **kwargs)\n",
      "/Users/sesmart/coding/development/qiskit-braket-provider/qiskit_braket_provider/providers/adapter.py:673: UserWarning: The Qiskit circuit contains barrier instructions that are ignored.\n",
      "  warnings.warn(\"The Qiskit circuit contains barrier instructions that are ignored.\")\n",
      "/Users/sesmart/.local/share/mise/installs/python/3.12.10/lib/python3.12/site-packages/braket/aws/aws_quantum_task.py:774: UserWarning: AwsQuantumTask.__init__ received unknown keyword args: ['memory', 'seed_simulator']\n",
      "  return AwsQuantumTask(task_arn, aws_session, *args, **kwargs)\n",
      "/Users/sesmart/coding/development/qiskit-braket-provider/qiskit_braket_provider/providers/adapter.py:673: UserWarning: The Qiskit circuit contains barrier instructions that are ignored.\n",
      "  warnings.warn(\"The Qiskit circuit contains barrier instructions that are ignored.\")\n",
      "/Users/sesmart/.local/share/mise/installs/python/3.12.10/lib/python3.12/site-packages/braket/aws/aws_quantum_task.py:774: UserWarning: AwsQuantumTask.__init__ received unknown keyword args: ['memory', 'seed_simulator']\n",
      "  return AwsQuantumTask(task_arn, aws_session, *args, **kwargs)\n",
      "/Users/sesmart/coding/development/qiskit-braket-provider/qiskit_braket_provider/providers/adapter.py:673: UserWarning: The Qiskit circuit contains barrier instructions that are ignored.\n",
      "  warnings.warn(\"The Qiskit circuit contains barrier instructions that are ignored.\")\n",
      "/Users/sesmart/.local/share/mise/installs/python/3.12.10/lib/python3.12/site-packages/braket/aws/aws_quantum_task.py:774: UserWarning: AwsQuantumTask.__init__ received unknown keyword args: ['memory', 'seed_simulator']\n",
      "  return AwsQuantumTask(task_arn, aws_session, *args, **kwargs)\n",
      "/Users/sesmart/coding/development/qiskit-braket-provider/qiskit_braket_provider/providers/adapter.py:673: UserWarning: The Qiskit circuit contains barrier instructions that are ignored.\n",
      "  warnings.warn(\"The Qiskit circuit contains barrier instructions that are ignored.\")\n",
      "/Users/sesmart/.local/share/mise/installs/python/3.12.10/lib/python3.12/site-packages/braket/aws/aws_quantum_task.py:774: UserWarning: AwsQuantumTask.__init__ received unknown keyword args: ['memory', 'seed_simulator']\n",
      "  return AwsQuantumTask(task_arn, aws_session, *args, **kwargs)\n",
      "/Users/sesmart/coding/development/qiskit-braket-provider/qiskit_braket_provider/providers/adapter.py:673: UserWarning: The Qiskit circuit contains barrier instructions that are ignored.\n",
      "  warnings.warn(\"The Qiskit circuit contains barrier instructions that are ignored.\")\n",
      "/Users/sesmart/.local/share/mise/installs/python/3.12.10/lib/python3.12/site-packages/braket/aws/aws_quantum_task.py:774: UserWarning: AwsQuantumTask.__init__ received unknown keyword args: ['memory', 'seed_simulator']\n",
      "  return AwsQuantumTask(task_arn, aws_session, *args, **kwargs)\n",
      "/Users/sesmart/coding/development/qiskit-braket-provider/qiskit_braket_provider/providers/adapter.py:673: UserWarning: The Qiskit circuit contains barrier instructions that are ignored.\n",
      "  warnings.warn(\"The Qiskit circuit contains barrier instructions that are ignored.\")\n",
      "/Users/sesmart/.local/share/mise/installs/python/3.12.10/lib/python3.12/site-packages/braket/aws/aws_quantum_task.py:774: UserWarning: AwsQuantumTask.__init__ received unknown keyword args: ['memory', 'seed_simulator']\n",
      "  return AwsQuantumTask(task_arn, aws_session, *args, **kwargs)\n",
      "/Users/sesmart/coding/development/qiskit-braket-provider/qiskit_braket_provider/providers/adapter.py:673: UserWarning: The Qiskit circuit contains barrier instructions that are ignored.\n",
      "  warnings.warn(\"The Qiskit circuit contains barrier instructions that are ignored.\")\n",
      "/Users/sesmart/.local/share/mise/installs/python/3.12.10/lib/python3.12/site-packages/braket/aws/aws_quantum_task.py:774: UserWarning: AwsQuantumTask.__init__ received unknown keyword args: ['memory', 'seed_simulator']\n",
      "  return AwsQuantumTask(task_arn, aws_session, *args, **kwargs)\n",
      "/Users/sesmart/coding/development/qiskit-braket-provider/qiskit_braket_provider/providers/adapter.py:673: UserWarning: The Qiskit circuit contains barrier instructions that are ignored.\n",
      "  warnings.warn(\"The Qiskit circuit contains barrier instructions that are ignored.\")\n",
      "/Users/sesmart/.local/share/mise/installs/python/3.12.10/lib/python3.12/site-packages/braket/aws/aws_quantum_task.py:774: UserWarning: AwsQuantumTask.__init__ received unknown keyword args: ['memory', 'seed_simulator']\n",
      "  return AwsQuantumTask(task_arn, aws_session, *args, **kwargs)\n",
      "/Users/sesmart/coding/development/qiskit-braket-provider/qiskit_braket_provider/providers/adapter.py:673: UserWarning: The Qiskit circuit contains barrier instructions that are ignored.\n",
      "  warnings.warn(\"The Qiskit circuit contains barrier instructions that are ignored.\")\n",
      "/Users/sesmart/.local/share/mise/installs/python/3.12.10/lib/python3.12/site-packages/braket/aws/aws_quantum_task.py:774: UserWarning: AwsQuantumTask.__init__ received unknown keyword args: ['memory', 'seed_simulator']\n",
      "  return AwsQuantumTask(task_arn, aws_session, *args, **kwargs)\n",
      "/Users/sesmart/coding/development/qiskit-braket-provider/qiskit_braket_provider/providers/adapter.py:673: UserWarning: The Qiskit circuit contains barrier instructions that are ignored.\n",
      "  warnings.warn(\"The Qiskit circuit contains barrier instructions that are ignored.\")\n",
      "/Users/sesmart/.local/share/mise/installs/python/3.12.10/lib/python3.12/site-packages/braket/aws/aws_quantum_task.py:774: UserWarning: AwsQuantumTask.__init__ received unknown keyword args: ['memory', 'seed_simulator']\n",
      "  return AwsQuantumTask(task_arn, aws_session, *args, **kwargs)\n",
      "/Users/sesmart/coding/development/qiskit-braket-provider/qiskit_braket_provider/providers/adapter.py:673: UserWarning: The Qiskit circuit contains barrier instructions that are ignored.\n",
      "  warnings.warn(\"The Qiskit circuit contains barrier instructions that are ignored.\")\n",
      "/Users/sesmart/.local/share/mise/installs/python/3.12.10/lib/python3.12/site-packages/braket/aws/aws_quantum_task.py:774: UserWarning: AwsQuantumTask.__init__ received unknown keyword args: ['memory', 'seed_simulator']\n",
      "  return AwsQuantumTask(task_arn, aws_session, *args, **kwargs)\n",
      "/Users/sesmart/coding/development/qiskit-braket-provider/qiskit_braket_provider/providers/adapter.py:673: UserWarning: The Qiskit circuit contains barrier instructions that are ignored.\n",
      "  warnings.warn(\"The Qiskit circuit contains barrier instructions that are ignored.\")\n",
      "/Users/sesmart/.local/share/mise/installs/python/3.12.10/lib/python3.12/site-packages/braket/aws/aws_quantum_task.py:774: UserWarning: AwsQuantumTask.__init__ received unknown keyword args: ['memory', 'seed_simulator']\n",
      "  return AwsQuantumTask(task_arn, aws_session, *args, **kwargs)\n",
      "/Users/sesmart/coding/development/qiskit-braket-provider/qiskit_braket_provider/providers/adapter.py:673: UserWarning: The Qiskit circuit contains barrier instructions that are ignored.\n",
      "  warnings.warn(\"The Qiskit circuit contains barrier instructions that are ignored.\")\n",
      "/Users/sesmart/.local/share/mise/installs/python/3.12.10/lib/python3.12/site-packages/braket/aws/aws_quantum_task.py:774: UserWarning: AwsQuantumTask.__init__ received unknown keyword args: ['memory', 'seed_simulator']\n",
      "  return AwsQuantumTask(task_arn, aws_session, *args, **kwargs)\n",
      "/Users/sesmart/coding/development/qiskit-braket-provider/qiskit_braket_provider/providers/adapter.py:673: UserWarning: The Qiskit circuit contains barrier instructions that are ignored.\n",
      "  warnings.warn(\"The Qiskit circuit contains barrier instructions that are ignored.\")\n",
      "/Users/sesmart/.local/share/mise/installs/python/3.12.10/lib/python3.12/site-packages/braket/aws/aws_quantum_task.py:774: UserWarning: AwsQuantumTask.__init__ received unknown keyword args: ['memory', 'seed_simulator']\n",
      "  return AwsQuantumTask(task_arn, aws_session, *args, **kwargs)\n",
      "/Users/sesmart/coding/development/qiskit-braket-provider/qiskit_braket_provider/providers/adapter.py:673: UserWarning: The Qiskit circuit contains barrier instructions that are ignored.\n",
      "  warnings.warn(\"The Qiskit circuit contains barrier instructions that are ignored.\")\n",
      "/Users/sesmart/.local/share/mise/installs/python/3.12.10/lib/python3.12/site-packages/braket/aws/aws_quantum_task.py:774: UserWarning: AwsQuantumTask.__init__ received unknown keyword args: ['memory', 'seed_simulator']\n",
      "  return AwsQuantumTask(task_arn, aws_session, *args, **kwargs)\n",
      "/Users/sesmart/coding/development/qiskit-braket-provider/qiskit_braket_provider/providers/adapter.py:673: UserWarning: The Qiskit circuit contains barrier instructions that are ignored.\n",
      "  warnings.warn(\"The Qiskit circuit contains barrier instructions that are ignored.\")\n",
      "/Users/sesmart/.local/share/mise/installs/python/3.12.10/lib/python3.12/site-packages/braket/aws/aws_quantum_task.py:774: UserWarning: AwsQuantumTask.__init__ received unknown keyword args: ['memory', 'seed_simulator']\n",
      "  return AwsQuantumTask(task_arn, aws_session, *args, **kwargs)\n",
      "/Users/sesmart/coding/development/qiskit-braket-provider/qiskit_braket_provider/providers/adapter.py:673: UserWarning: The Qiskit circuit contains barrier instructions that are ignored.\n",
      "  warnings.warn(\"The Qiskit circuit contains barrier instructions that are ignored.\")\n",
      "/Users/sesmart/.local/share/mise/installs/python/3.12.10/lib/python3.12/site-packages/braket/aws/aws_quantum_task.py:774: UserWarning: AwsQuantumTask.__init__ received unknown keyword args: ['memory', 'seed_simulator']\n",
      "  return AwsQuantumTask(task_arn, aws_session, *args, **kwargs)\n"
     ]
    },
    {
     "name": "stdout",
     "output_type": "stream",
     "text": [
      "objective function value: -2.0\n",
      "variable values: x=0.0, y=1.0, z=0.0\n",
      "status: SUCCESS\n"
     ]
    }
   ],
   "source": [
    "qaoa_result = qaoa.solve(qubo)\n",
    "print(qaoa_result.prettyprint())"
   ]
  },
  {
   "attachments": {},
   "cell_type": "markdown",
   "metadata": {},
   "source": [
    "### Analysis of Samples\n",
    "`OptimizationResult` provides useful information in the form of `SolutionSample`s (here denoted as *samples*). Each `SolutionSample` contains\n",
    "information about the input values (`x`), the corresponding objective function value (`fval`), the fraction of samples corresponding to that input (`probability`),\n",
    "and the solution `status` (`SUCCESS`, `FAILURE`, `INFEASIBLE`). Multiple samples corresponding to the same input are consolidated into a single `SolutionSample` (with its `probability` attribute being the aggregate fraction of samples represented by that `SolutionSample`)."
   ]
  },
  {
   "cell_type": "code",
   "execution_count": 11,
   "metadata": {
    "ExecuteTime": {
     "end_time": "2024-03-06T06:22:25.769958Z",
     "start_time": "2024-03-06T06:22:25.766296Z"
    }
   },
   "outputs": [
    {
     "name": "stdout",
     "output_type": "stream",
     "text": [
      "variable order: ['x', 'y', 'z']\n",
      "SolutionSample(x=array([0., 1., 0.]), fval=-2.0, probability=0.431640625, status=<OptimizationResultStatus.SUCCESS: 0>)\n",
      "SolutionSample(x=array([0., 0., 0.]), fval=0.0, probability=0.193359375, status=<OptimizationResultStatus.SUCCESS: 0>)\n",
      "SolutionSample(x=array([1., 1., 0.]), fval=0.0, probability=0.13671875, status=<OptimizationResultStatus.SUCCESS: 0>)\n",
      "SolutionSample(x=array([1., 0., 0.]), fval=1.0, probability=0.14453125, status=<OptimizationResultStatus.SUCCESS: 0>)\n",
      "SolutionSample(x=array([0., 0., 1.]), fval=3.0, probability=0.0283203125, status=<OptimizationResultStatus.SUCCESS: 0>)\n",
      "SolutionSample(x=array([1., 0., 1.]), fval=3.0, probability=0.056640625, status=<OptimizationResultStatus.SUCCESS: 0>)\n",
      "SolutionSample(x=array([0., 1., 1.]), fval=3.0, probability=0.0068359375, status=<OptimizationResultStatus.SUCCESS: 0>)\n",
      "SolutionSample(x=array([1., 1., 1.]), fval=4.0, probability=0.001953125, status=<OptimizationResultStatus.SUCCESS: 0>)\n"
     ]
    }
   ],
   "source": [
    "print(\"variable order:\", [var.name for var in qaoa_result.variables])\n",
    "for s in qaoa_result.samples:\n",
    "    print(s)"
   ]
  },
  {
   "attachments": {},
   "cell_type": "markdown",
   "metadata": {},
   "source": [
    "We may also want to filter samples according to their status or probabilities."
   ]
  },
  {
   "cell_type": "code",
   "execution_count": 12,
   "metadata": {
    "ExecuteTime": {
     "end_time": "2024-03-06T06:22:25.774975Z",
     "start_time": "2024-03-06T06:22:25.771471Z"
    }
   },
   "outputs": [],
   "source": [
    "def get_filtered_samples(\n",
    "    samples: List[SolutionSample],\n",
    "    threshold: float = 0,\n",
    "    allowed_status: Tuple[OptimizationResultStatus] = (OptimizationResultStatus.SUCCESS,),\n",
    "):\n",
    "    return [s for s in samples if s.status in allowed_status and s.probability > threshold]"
   ]
  },
  {
   "cell_type": "code",
   "execution_count": 13,
   "metadata": {
    "ExecuteTime": {
     "end_time": "2024-03-06T06:22:25.778731Z",
     "start_time": "2024-03-06T06:22:25.775933Z"
    }
   },
   "outputs": [
    {
     "name": "stdout",
     "output_type": "stream",
     "text": [
      "SolutionSample(x=array([0., 1., 0.]), fval=-2.0, probability=0.431640625, status=<OptimizationResultStatus.SUCCESS: 0>)\n",
      "SolutionSample(x=array([0., 0., 0.]), fval=0.0, probability=0.193359375, status=<OptimizationResultStatus.SUCCESS: 0>)\n",
      "SolutionSample(x=array([1., 1., 0.]), fval=0.0, probability=0.13671875, status=<OptimizationResultStatus.SUCCESS: 0>)\n",
      "SolutionSample(x=array([1., 0., 0.]), fval=1.0, probability=0.14453125, status=<OptimizationResultStatus.SUCCESS: 0>)\n",
      "SolutionSample(x=array([0., 0., 1.]), fval=3.0, probability=0.0283203125, status=<OptimizationResultStatus.SUCCESS: 0>)\n",
      "SolutionSample(x=array([1., 0., 1.]), fval=3.0, probability=0.056640625, status=<OptimizationResultStatus.SUCCESS: 0>)\n",
      "SolutionSample(x=array([0., 1., 1.]), fval=3.0, probability=0.0068359375, status=<OptimizationResultStatus.SUCCESS: 0>)\n"
     ]
    }
   ],
   "source": [
    "filtered_samples = get_filtered_samples(\n",
    "    qaoa_result.samples,\n",
    "    threshold=0.005,\n",
    "    allowed_status=(OptimizationResultStatus.SUCCESS,),\n",
    ")\n",
    "for s in filtered_samples:\n",
    "    print(s)"
   ]
  },
  {
   "attachments": {},
   "cell_type": "markdown",
   "metadata": {},
   "source": [
    "If we want to obtain a better perspective of the results, statistics is very helpful, both with respect to\n",
    "the objective function values and their respective probabilities. Thus, mean and standard deviation are the very\n",
    "basics for understanding the results."
   ]
  },
  {
   "cell_type": "code",
   "execution_count": 14,
   "metadata": {
    "ExecuteTime": {
     "end_time": "2024-03-06T06:22:25.782108Z",
     "start_time": "2024-03-06T06:22:25.780115Z"
    }
   },
   "outputs": [],
   "source": [
    "fvals = [s.fval for s in qaoa_result.samples]\n",
    "probabilities = [s.probability for s in qaoa_result.samples]"
   ]
  },
  {
   "cell_type": "code",
   "execution_count": 15,
   "metadata": {
    "ExecuteTime": {
     "end_time": "2024-03-06T06:22:25.786833Z",
     "start_time": "2024-03-06T06:22:25.782986Z"
    }
   },
   "outputs": [
    {
     "data": {
      "text/plain": [
       "1.5"
      ]
     },
     "execution_count": 15,
     "metadata": {},
     "output_type": "execute_result"
    }
   ],
   "source": [
    "np.mean(fvals)"
   ]
  },
  {
   "cell_type": "code",
   "execution_count": 16,
   "metadata": {
    "ExecuteTime": {
     "end_time": "2024-03-06T06:22:25.790398Z",
     "start_time": "2024-03-06T06:22:25.787811Z"
    }
   },
   "outputs": [
    {
     "data": {
      "text/plain": [
       "1.9364916731037085"
      ]
     },
     "execution_count": 16,
     "metadata": {},
     "output_type": "execute_result"
    }
   ],
   "source": [
    "np.std(fvals)"
   ]
  },
  {
   "attachments": {},
   "cell_type": "markdown",
   "metadata": {},
   "source": [
    "Finally, despite all the number-crunching, visualization is usually the best early-analysis approach."
   ]
  },
  {
   "cell_type": "code",
   "execution_count": 17,
   "metadata": {
    "ExecuteTime": {
     "end_time": "2024-03-06T06:22:25.794232Z",
     "start_time": "2024-03-06T06:22:25.791390Z"
    }
   },
   "outputs": [
    {
     "data": {
      "text/plain": [
       "{'x=0 y=1 z=0': 0.431640625,\n",
       " 'x=0 y=0 z=0': 0.193359375,\n",
       " 'x=1 y=1 z=0': 0.13671875,\n",
       " 'x=1 y=0 z=0': 0.14453125,\n",
       " 'x=0 y=0 z=1': 0.0283203125,\n",
       " 'x=1 y=0 z=1': 0.056640625,\n",
       " 'x=0 y=1 z=1': 0.0068359375}"
      ]
     },
     "execution_count": 17,
     "metadata": {},
     "output_type": "execute_result"
    }
   ],
   "source": [
    "samples_for_plot = {\n",
    "    \" \".join(f\"{qaoa_result.variables[i].name}={int(v)}\" for i, v in enumerate(s.x)): s.probability\n",
    "    for s in filtered_samples\n",
    "}\n",
    "samples_for_plot"
   ]
  },
  {
   "cell_type": "code",
   "execution_count": 18,
   "metadata": {
    "ExecuteTime": {
     "end_time": "2024-03-06T06:22:26.203433Z",
     "start_time": "2024-03-06T06:22:25.795208Z"
    }
   },
   "outputs": [
    {
     "data": {
      "image/png": "[encoded data removed]",
      "text/plain": [
       "<Figure size 640x480 with 1 Axes>"
      ]
     },
     "execution_count": 18,
     "metadata": {},
     "output_type": "execute_result"
    }
   ],
   "source": [
    "plot_histogram(samples_for_plot)"
   ]
  },
  {
   "attachments": {},
   "cell_type": "markdown",
   "metadata": {},
   "source": [
    "## RecursiveMinimumEigenOptimizer"
   ]
  },
  {
   "attachments": {},
   "cell_type": "markdown",
   "metadata": {},
   "source": [
    "The `RecursiveMinimumEigenOptimizer` takes a `MinimumEigenOptimizer` as input and applies the recursive optimization scheme to reduce the size of the problem one variable at a time.\n",
    "Once the size of the generated intermediate problem is below a given threshold (`min_num_vars`), the `RecursiveMinimumEigenOptimizer` uses another solver (`min_num_vars_optimizer`), e.g., an exact classical solver such as CPLEX or the `MinimumEigenOptimizer` based on the `NumPyMinimumEigensolver`.\n",
    "\n",
    "In the following, we show how to use the `RecursiveMinimumEigenOptimizer` using the two `MinimumEigenOptimizer`s introduced before."
   ]
  },
  {
   "attachments": {},
   "cell_type": "markdown",
   "metadata": {},
   "source": [
    "First, we construct the `RecursiveMinimumEigenOptimizer` such that it reduces the problem size from 3 variables to 1 variable and then uses the exact solver for the last variable. Then we call `solve` to optimize the considered problem."
   ]
  },
  {
   "cell_type": "code",
   "execution_count": 19,
   "metadata": {
    "ExecuteTime": {
     "end_time": "2024-03-06T06:22:26.241480Z",
     "start_time": "2024-03-06T06:22:26.206441Z"
    }
   },
   "outputs": [],
   "source": [
    "rqaoa = RecursiveMinimumEigenOptimizer(qaoa, min_num_vars=1, min_num_vars_optimizer=exact)"
   ]
  },
  {
   "cell_type": "code",
   "execution_count": 20,
   "metadata": {
    "ExecuteTime": {
     "end_time": "2024-03-06T06:26:28.859824Z",
     "start_time": "2024-03-06T06:22:26.245339Z"
    }
   },
   "outputs": [
    {
     "name": "stderr",
     "output_type": "stream",
     "text": [
      "/Users/sesmart/coding/development/qiskit-braket-provider/qiskit_braket_provider/providers/adapter.py:673: UserWarning: The Qiskit circuit contains barrier instructions that are ignored.\n",
      "  warnings.warn(\"The Qiskit circuit contains barrier instructions that are ignored.\")\n",
      "/Users/sesmart/.local/share/mise/installs/python/3.12.10/lib/python3.12/site-packages/braket/aws/aws_quantum_task.py:774: UserWarning: AwsQuantumTask.__init__ received unknown keyword args: ['memory', 'seed_simulator']\n",
      "  return AwsQuantumTask(task_arn, aws_session, *args, **kwargs)\n",
      "/Users/sesmart/coding/development/qiskit-braket-provider/qiskit_braket_provider/providers/adapter.py:673: UserWarning: The Qiskit circuit contains barrier instructions that are ignored.\n",
      "  warnings.warn(\"The Qiskit circuit contains barrier instructions that are ignored.\")\n",
      "/Users/sesmart/.local/share/mise/installs/python/3.12.10/lib/python3.12/site-packages/braket/aws/aws_quantum_task.py:774: UserWarning: AwsQuantumTask.__init__ received unknown keyword args: ['memory', 'seed_simulator']\n",
      "  return AwsQuantumTask(task_arn, aws_session, *args, **kwargs)\n",
      "/Users/sesmart/coding/development/qiskit-braket-provider/qiskit_braket_provider/providers/adapter.py:673: UserWarning: The Qiskit circuit contains barrier instructions that are ignored.\n",
      "  warnings.warn(\"The Qiskit circuit contains barrier instructions that are ignored.\")\n",
      "/Users/sesmart/.local/share/mise/installs/python/3.12.10/lib/python3.12/site-packages/braket/aws/aws_quantum_task.py:774: UserWarning: AwsQuantumTask.__init__ received unknown keyword args: ['memory', 'seed_simulator']\n",
      "  return AwsQuantumTask(task_arn, aws_session, *args, **kwargs)\n",
      "/Users/sesmart/coding/development/qiskit-braket-provider/qiskit_braket_provider/providers/adapter.py:673: UserWarning: The Qiskit circuit contains barrier instructions that are ignored.\n",
      "  warnings.warn(\"The Qiskit circuit contains barrier instructions that are ignored.\")\n",
      "/Users/sesmart/.local/share/mise/installs/python/3.12.10/lib/python3.12/site-packages/braket/aws/aws_quantum_task.py:774: UserWarning: AwsQuantumTask.__init__ received unknown keyword args: ['memory', 'seed_simulator']\n",
      "  return AwsQuantumTask(task_arn, aws_session, *args, **kwargs)\n",
      "/Users/sesmart/coding/development/qiskit-braket-provider/qiskit_braket_provider/providers/adapter.py:673: UserWarning: The Qiskit circuit contains barrier instructions that are ignored.\n",
      "  warnings.warn(\"The Qiskit circuit contains barrier instructions that are ignored.\")\n",
      "/Users/sesmart/.local/share/mise/installs/python/3.12.10/lib/python3.12/site-packages/braket/aws/aws_quantum_task.py:774: UserWarning: AwsQuantumTask.__init__ received unknown keyword args: ['memory', 'seed_simulator']\n",
      "  return AwsQuantumTask(task_arn, aws_session, *args, **kwargs)\n",
      "/Users/sesmart/coding/development/qiskit-braket-provider/qiskit_braket_provider/providers/adapter.py:673: UserWarning: The Qiskit circuit contains barrier instructions that are ignored.\n",
      "  warnings.warn(\"The Qiskit circuit contains barrier instructions that are ignored.\")\n",
      "/Users/sesmart/.local/share/mise/installs/python/3.12.10/lib/python3.12/site-packages/braket/aws/aws_quantum_task.py:774: UserWarning: AwsQuantumTask.__init__ received unknown keyword args: ['memory', 'seed_simulator']\n",
      "  return AwsQuantumTask(task_arn, aws_session, *args, **kwargs)\n",
      "/Users/sesmart/coding/development/qiskit-braket-provider/qiskit_braket_provider/providers/adapter.py:673: UserWarning: The Qiskit circuit contains barrier instructions that are ignored.\n",
      "  warnings.warn(\"The Qiskit circuit contains barrier instructions that are ignored.\")\n",
      "/Users/sesmart/.local/share/mise/installs/python/3.12.10/lib/python3.12/site-packages/braket/aws/aws_quantum_task.py:774: UserWarning: AwsQuantumTask.__init__ received unknown keyword args: ['memory', 'seed_simulator']\n",
      "  return AwsQuantumTask(task_arn, aws_session, *args, **kwargs)\n",
      "/Users/sesmart/coding/development/qiskit-braket-provider/qiskit_braket_provider/providers/adapter.py:673: UserWarning: The Qiskit circuit contains barrier instructions that are ignored.\n",
      "  warnings.warn(\"The Qiskit circuit contains barrier instructions that are ignored.\")\n",
      "/Users/sesmart/.local/share/mise/installs/python/3.12.10/lib/python3.12/site-packages/braket/aws/aws_quantum_task.py:774: UserWarning: AwsQuantumTask.__init__ received unknown keyword args: ['memory', 'seed_simulator']\n",
      "  return AwsQuantumTask(task_arn, aws_session, *args, **kwargs)\n",
      "/Users/sesmart/coding/development/qiskit-braket-provider/qiskit_braket_provider/providers/adapter.py:673: UserWarning: The Qiskit circuit contains barrier instructions that are ignored.\n",
      "  warnings.warn(\"The Qiskit circuit contains barrier instructions that are ignored.\")\n",
      "/Users/sesmart/.local/share/mise/installs/python/3.12.10/lib/python3.12/site-packages/braket/aws/aws_quantum_task.py:774: UserWarning: AwsQuantumTask.__init__ received unknown keyword args: ['memory', 'seed_simulator']\n",
      "  return AwsQuantumTask(task_arn, aws_session, *args, **kwargs)\n",
      "/Users/sesmart/coding/development/qiskit-braket-provider/qiskit_braket_provider/providers/adapter.py:673: UserWarning: The Qiskit circuit contains barrier instructions that are ignored.\n",
      "  warnings.warn(\"The Qiskit circuit contains barrier instructions that are ignored.\")\n",
      "/Users/sesmart/.local/share/mise/installs/python/3.12.10/lib/python3.12/site-packages/braket/aws/aws_quantum_task.py:774: UserWarning: AwsQuantumTask.__init__ received unknown keyword args: ['memory', 'seed_simulator']\n",
      "  return AwsQuantumTask(task_arn, aws_session, *args, **kwargs)\n",
      "/Users/sesmart/coding/development/qiskit-braket-provider/qiskit_braket_provider/providers/adapter.py:673: UserWarning: The Qiskit circuit contains barrier instructions that are ignored.\n",
      "  warnings.warn(\"The Qiskit circuit contains barrier instructions that are ignored.\")\n",
      "/Users/sesmart/.local/share/mise/installs/python/3.12.10/lib/python3.12/site-packages/braket/aws/aws_quantum_task.py:774: UserWarning: AwsQuantumTask.__init__ received unknown keyword args: ['memory', 'seed_simulator']\n",
      "  return AwsQuantumTask(task_arn, aws_session, *args, **kwargs)\n",
      "/Users/sesmart/coding/development/qiskit-braket-provider/qiskit_braket_provider/providers/adapter.py:673: UserWarning: The Qiskit circuit contains barrier instructions that are ignored.\n",
      "  warnings.warn(\"The Qiskit circuit contains barrier instructions that are ignored.\")\n",
      "/Users/sesmart/.local/share/mise/installs/python/3.12.10/lib/python3.12/site-packages/braket/aws/aws_quantum_task.py:774: UserWarning: AwsQuantumTask.__init__ received unknown keyword args: ['memory', 'seed_simulator']\n",
      "  return AwsQuantumTask(task_arn, aws_session, *args, **kwargs)\n",
      "/Users/sesmart/coding/development/qiskit-braket-provider/qiskit_braket_provider/providers/adapter.py:673: UserWarning: The Qiskit circuit contains barrier instructions that are ignored.\n",
      "  warnings.warn(\"The Qiskit circuit contains barrier instructions that are ignored.\")\n",
      "/Users/sesmart/.local/share/mise/installs/python/3.12.10/lib/python3.12/site-packages/braket/aws/aws_quantum_task.py:774: UserWarning: AwsQuantumTask.__init__ received unknown keyword args: ['memory', 'seed_simulator']\n",
      "  return AwsQuantumTask(task_arn, aws_session, *args, **kwargs)\n",
      "/Users/sesmart/coding/development/qiskit-braket-provider/qiskit_braket_provider/providers/adapter.py:673: UserWarning: The Qiskit circuit contains barrier instructions that are ignored.\n",
      "  warnings.warn(\"The Qiskit circuit contains barrier instructions that are ignored.\")\n",
      "/Users/sesmart/.local/share/mise/installs/python/3.12.10/lib/python3.12/site-packages/braket/aws/aws_quantum_task.py:774: UserWarning: AwsQuantumTask.__init__ received unknown keyword args: ['memory', 'seed_simulator']\n",
      "  return AwsQuantumTask(task_arn, aws_session, *args, **kwargs)\n",
      "/Users/sesmart/coding/development/qiskit-braket-provider/qiskit_braket_provider/providers/adapter.py:673: UserWarning: The Qiskit circuit contains barrier instructions that are ignored.\n",
      "  warnings.warn(\"The Qiskit circuit contains barrier instructions that are ignored.\")\n",
      "/Users/sesmart/.local/share/mise/installs/python/3.12.10/lib/python3.12/site-packages/braket/aws/aws_quantum_task.py:774: UserWarning: AwsQuantumTask.__init__ received unknown keyword args: ['memory', 'seed_simulator']\n",
      "  return AwsQuantumTask(task_arn, aws_session, *args, **kwargs)\n",
      "/Users/sesmart/coding/development/qiskit-braket-provider/qiskit_braket_provider/providers/adapter.py:673: UserWarning: The Qiskit circuit contains barrier instructions that are ignored.\n",
      "  warnings.warn(\"The Qiskit circuit contains barrier instructions that are ignored.\")\n",
      "/Users/sesmart/.local/share/mise/installs/python/3.12.10/lib/python3.12/site-packages/braket/aws/aws_quantum_task.py:774: UserWarning: AwsQuantumTask.__init__ received unknown keyword args: ['memory', 'seed_simulator']\n",
      "  return AwsQuantumTask(task_arn, aws_session, *args, **kwargs)\n",
      "/Users/sesmart/coding/development/qiskit-braket-provider/qiskit_braket_provider/providers/adapter.py:673: UserWarning: The Qiskit circuit contains barrier instructions that are ignored.\n",
      "  warnings.warn(\"The Qiskit circuit contains barrier instructions that are ignored.\")\n",
      "/Users/sesmart/.local/share/mise/installs/python/3.12.10/lib/python3.12/site-packages/braket/aws/aws_quantum_task.py:774: UserWarning: AwsQuantumTask.__init__ received unknown keyword args: ['memory', 'seed_simulator']\n",
      "  return AwsQuantumTask(task_arn, aws_session, *args, **kwargs)\n",
      "/Users/sesmart/coding/development/qiskit-braket-provider/qiskit_braket_provider/providers/adapter.py:673: UserWarning: The Qiskit circuit contains barrier instructions that are ignored.\n",
      "  warnings.warn(\"The Qiskit circuit contains barrier instructions that are ignored.\")\n",
      "/Users/sesmart/.local/share/mise/installs/python/3.12.10/lib/python3.12/site-packages/braket/aws/aws_quantum_task.py:774: UserWarning: AwsQuantumTask.__init__ received unknown keyword args: ['memory', 'seed_simulator']\n",
      "  return AwsQuantumTask(task_arn, aws_session, *args, **kwargs)\n",
      "/Users/sesmart/coding/development/qiskit-braket-provider/qiskit_braket_provider/providers/adapter.py:673: UserWarning: The Qiskit circuit contains barrier instructions that are ignored.\n",
      "  warnings.warn(\"The Qiskit circuit contains barrier instructions that are ignored.\")\n",
      "/Users/sesmart/.local/share/mise/installs/python/3.12.10/lib/python3.12/site-packages/braket/aws/aws_quantum_task.py:774: UserWarning: AwsQuantumTask.__init__ received unknown keyword args: ['memory', 'seed_simulator']\n",
      "  return AwsQuantumTask(task_arn, aws_session, *args, **kwargs)\n",
      "/Users/sesmart/coding/development/qiskit-braket-provider/qiskit_braket_provider/providers/adapter.py:673: UserWarning: The Qiskit circuit contains barrier instructions that are ignored.\n",
      "  warnings.warn(\"The Qiskit circuit contains barrier instructions that are ignored.\")\n",
      "/Users/sesmart/.local/share/mise/installs/python/3.12.10/lib/python3.12/site-packages/braket/aws/aws_quantum_task.py:774: UserWarning: AwsQuantumTask.__init__ received unknown keyword args: ['memory', 'seed_simulator']\n",
      "  return AwsQuantumTask(task_arn, aws_session, *args, **kwargs)\n",
      "/Users/sesmart/coding/development/qiskit-braket-provider/qiskit_braket_provider/providers/adapter.py:673: UserWarning: The Qiskit circuit contains barrier instructions that are ignored.\n",
      "  warnings.warn(\"The Qiskit circuit contains barrier instructions that are ignored.\")\n",
      "/Users/sesmart/.local/share/mise/installs/python/3.12.10/lib/python3.12/site-packages/braket/aws/aws_quantum_task.py:774: UserWarning: AwsQuantumTask.__init__ received unknown keyword args: ['memory', 'seed_simulator']\n",
      "  return AwsQuantumTask(task_arn, aws_session, *args, **kwargs)\n",
      "/Users/sesmart/coding/development/qiskit-braket-provider/qiskit_braket_provider/providers/adapter.py:673: UserWarning: The Qiskit circuit contains barrier instructions that are ignored.\n",
      "  warnings.warn(\"The Qiskit circuit contains barrier instructions that are ignored.\")\n",
      "/Users/sesmart/.local/share/mise/installs/python/3.12.10/lib/python3.12/site-packages/braket/aws/aws_quantum_task.py:774: UserWarning: AwsQuantumTask.__init__ received unknown keyword args: ['memory', 'seed_simulator']\n",
      "  return AwsQuantumTask(task_arn, aws_session, *args, **kwargs)\n",
      "/Users/sesmart/coding/development/qiskit-braket-provider/qiskit_braket_provider/providers/adapter.py:673: UserWarning: The Qiskit circuit contains barrier instructions that are ignored.\n",
      "  warnings.warn(\"The Qiskit circuit contains barrier instructions that are ignored.\")\n",
      "/Users/sesmart/.local/share/mise/installs/python/3.12.10/lib/python3.12/site-packages/braket/aws/aws_quantum_task.py:774: UserWarning: AwsQuantumTask.__init__ received unknown keyword args: ['memory', 'seed_simulator']\n",
      "  return AwsQuantumTask(task_arn, aws_session, *args, **kwargs)\n",
      "/Users/sesmart/coding/development/qiskit-braket-provider/qiskit_braket_provider/providers/adapter.py:673: UserWarning: The Qiskit circuit contains barrier instructions that are ignored.\n",
      "  warnings.warn(\"The Qiskit circuit contains barrier instructions that are ignored.\")\n",
      "/Users/sesmart/.local/share/mise/installs/python/3.12.10/lib/python3.12/site-packages/braket/aws/aws_quantum_task.py:774: UserWarning: AwsQuantumTask.__init__ received unknown keyword args: ['memory', 'seed_simulator']\n",
      "  return AwsQuantumTask(task_arn, aws_session, *args, **kwargs)\n",
      "/Users/sesmart/coding/development/qiskit-braket-provider/qiskit_braket_provider/providers/adapter.py:673: UserWarning: The Qiskit circuit contains barrier instructions that are ignored.\n",
      "  warnings.warn(\"The Qiskit circuit contains barrier instructions that are ignored.\")\n",
      "/Users/sesmart/.local/share/mise/installs/python/3.12.10/lib/python3.12/site-packages/braket/aws/aws_quantum_task.py:774: UserWarning: AwsQuantumTask.__init__ received unknown keyword args: ['memory', 'seed_simulator']\n",
      "  return AwsQuantumTask(task_arn, aws_session, *args, **kwargs)\n",
      "/Users/sesmart/coding/development/qiskit-braket-provider/qiskit_braket_provider/providers/adapter.py:673: UserWarning: The Qiskit circuit contains barrier instructions that are ignored.\n",
      "  warnings.warn(\"The Qiskit circuit contains barrier instructions that are ignored.\")\n",
      "/Users/sesmart/.local/share/mise/installs/python/3.12.10/lib/python3.12/site-packages/braket/aws/aws_quantum_task.py:774: UserWarning: AwsQuantumTask.__init__ received unknown keyword args: ['memory', 'seed_simulator']\n",
      "  return AwsQuantumTask(task_arn, aws_session, *args, **kwargs)\n",
      "/Users/sesmart/coding/development/qiskit-braket-provider/qiskit_braket_provider/providers/adapter.py:673: UserWarning: The Qiskit circuit contains barrier instructions that are ignored.\n",
      "  warnings.warn(\"The Qiskit circuit contains barrier instructions that are ignored.\")\n",
      "/Users/sesmart/.local/share/mise/installs/python/3.12.10/lib/python3.12/site-packages/braket/aws/aws_quantum_task.py:774: UserWarning: AwsQuantumTask.__init__ received unknown keyword args: ['memory', 'seed_simulator']\n",
      "  return AwsQuantumTask(task_arn, aws_session, *args, **kwargs)\n",
      "/Users/sesmart/coding/development/qiskit-braket-provider/qiskit_braket_provider/providers/adapter.py:673: UserWarning: The Qiskit circuit contains barrier instructions that are ignored.\n",
      "  warnings.warn(\"The Qiskit circuit contains barrier instructions that are ignored.\")\n",
      "/Users/sesmart/.local/share/mise/installs/python/3.12.10/lib/python3.12/site-packages/braket/aws/aws_quantum_task.py:774: UserWarning: AwsQuantumTask.__init__ received unknown keyword args: ['memory', 'seed_simulator']\n",
      "  return AwsQuantumTask(task_arn, aws_session, *args, **kwargs)\n",
      "/Users/sesmart/coding/development/qiskit-braket-provider/qiskit_braket_provider/providers/adapter.py:673: UserWarning: The Qiskit circuit contains barrier instructions that are ignored.\n",
      "  warnings.warn(\"The Qiskit circuit contains barrier instructions that are ignored.\")\n",
      "/Users/sesmart/.local/share/mise/installs/python/3.12.10/lib/python3.12/site-packages/braket/aws/aws_quantum_task.py:774: UserWarning: AwsQuantumTask.__init__ received unknown keyword args: ['memory', 'seed_simulator']\n",
      "  return AwsQuantumTask(task_arn, aws_session, *args, **kwargs)\n",
      "/Users/sesmart/coding/development/qiskit-braket-provider/qiskit_braket_provider/providers/adapter.py:673: UserWarning: The Qiskit circuit contains barrier instructions that are ignored.\n",
      "  warnings.warn(\"The Qiskit circuit contains barrier instructions that are ignored.\")\n",
      "/Users/sesmart/.local/share/mise/installs/python/3.12.10/lib/python3.12/site-packages/braket/aws/aws_quantum_task.py:774: UserWarning: AwsQuantumTask.__init__ received unknown keyword args: ['memory', 'seed_simulator']\n",
      "  return AwsQuantumTask(task_arn, aws_session, *args, **kwargs)\n",
      "/Users/sesmart/coding/development/qiskit-braket-provider/qiskit_braket_provider/providers/adapter.py:673: UserWarning: The Qiskit circuit contains barrier instructions that are ignored.\n",
      "  warnings.warn(\"The Qiskit circuit contains barrier instructions that are ignored.\")\n",
      "/Users/sesmart/.local/share/mise/installs/python/3.12.10/lib/python3.12/site-packages/braket/aws/aws_quantum_task.py:774: UserWarning: AwsQuantumTask.__init__ received unknown keyword args: ['memory', 'seed_simulator']\n",
      "  return AwsQuantumTask(task_arn, aws_session, *args, **kwargs)\n",
      "/Users/sesmart/coding/development/qiskit-braket-provider/qiskit_braket_provider/providers/adapter.py:673: UserWarning: The Qiskit circuit contains barrier instructions that are ignored.\n",
      "  warnings.warn(\"The Qiskit circuit contains barrier instructions that are ignored.\")\n",
      "/Users/sesmart/.local/share/mise/installs/python/3.12.10/lib/python3.12/site-packages/braket/aws/aws_quantum_task.py:774: UserWarning: AwsQuantumTask.__init__ received unknown keyword args: ['memory', 'seed_simulator']\n",
      "  return AwsQuantumTask(task_arn, aws_session, *args, **kwargs)\n",
      "/Users/sesmart/coding/development/qiskit-braket-provider/qiskit_braket_provider/providers/adapter.py:673: UserWarning: The Qiskit circuit contains barrier instructions that are ignored.\n",
      "  warnings.warn(\"The Qiskit circuit contains barrier instructions that are ignored.\")\n",
      "/Users/sesmart/.local/share/mise/installs/python/3.12.10/lib/python3.12/site-packages/braket/aws/aws_quantum_task.py:774: UserWarning: AwsQuantumTask.__init__ received unknown keyword args: ['memory', 'seed_simulator']\n",
      "  return AwsQuantumTask(task_arn, aws_session, *args, **kwargs)\n",
      "/Users/sesmart/coding/development/qiskit-braket-provider/qiskit_braket_provider/providers/adapter.py:673: UserWarning: The Qiskit circuit contains barrier instructions that are ignored.\n",
      "  warnings.warn(\"The Qiskit circuit contains barrier instructions that are ignored.\")\n",
      "/Users/sesmart/.local/share/mise/installs/python/3.12.10/lib/python3.12/site-packages/braket/aws/aws_quantum_task.py:774: UserWarning: AwsQuantumTask.__init__ received unknown keyword args: ['memory', 'seed_simulator']\n",
      "  return AwsQuantumTask(task_arn, aws_session, *args, **kwargs)\n",
      "/Users/sesmart/coding/development/qiskit-braket-provider/qiskit_braket_provider/providers/adapter.py:673: UserWarning: The Qiskit circuit contains barrier instructions that are ignored.\n",
      "  warnings.warn(\"The Qiskit circuit contains barrier instructions that are ignored.\")\n",
      "/Users/sesmart/.local/share/mise/installs/python/3.12.10/lib/python3.12/site-packages/braket/aws/aws_quantum_task.py:774: UserWarning: AwsQuantumTask.__init__ received unknown keyword args: ['memory', 'seed_simulator']\n",
      "  return AwsQuantumTask(task_arn, aws_session, *args, **kwargs)\n",
      "/Users/sesmart/coding/development/qiskit-braket-provider/qiskit_braket_provider/providers/adapter.py:673: UserWarning: The Qiskit circuit contains barrier instructions that are ignored.\n",
      "  warnings.warn(\"The Qiskit circuit contains barrier instructions that are ignored.\")\n",
      "/Users/sesmart/.local/share/mise/installs/python/3.12.10/lib/python3.12/site-packages/braket/aws/aws_quantum_task.py:774: UserWarning: AwsQuantumTask.__init__ received unknown keyword args: ['memory', 'seed_simulator']\n",
      "  return AwsQuantumTask(task_arn, aws_session, *args, **kwargs)\n",
      "/Users/sesmart/coding/development/qiskit-braket-provider/qiskit_braket_provider/providers/adapter.py:673: UserWarning: The Qiskit circuit contains barrier instructions that are ignored.\n",
      "  warnings.warn(\"The Qiskit circuit contains barrier instructions that are ignored.\")\n",
      "/Users/sesmart/.local/share/mise/installs/python/3.12.10/lib/python3.12/site-packages/braket/aws/aws_quantum_task.py:774: UserWarning: AwsQuantumTask.__init__ received unknown keyword args: ['memory', 'seed_simulator']\n",
      "  return AwsQuantumTask(task_arn, aws_session, *args, **kwargs)\n",
      "/Users/sesmart/coding/development/qiskit-braket-provider/qiskit_braket_provider/providers/adapter.py:673: UserWarning: The Qiskit circuit contains barrier instructions that are ignored.\n",
      "  warnings.warn(\"The Qiskit circuit contains barrier instructions that are ignored.\")\n",
      "/Users/sesmart/.local/share/mise/installs/python/3.12.10/lib/python3.12/site-packages/braket/aws/aws_quantum_task.py:774: UserWarning: AwsQuantumTask.__init__ received unknown keyword args: ['memory', 'seed_simulator']\n",
      "  return AwsQuantumTask(task_arn, aws_session, *args, **kwargs)\n",
      "/Users/sesmart/coding/development/qiskit-braket-provider/qiskit_braket_provider/providers/adapter.py:673: UserWarning: The Qiskit circuit contains barrier instructions that are ignored.\n",
      "  warnings.warn(\"The Qiskit circuit contains barrier instructions that are ignored.\")\n",
      "/Users/sesmart/.local/share/mise/installs/python/3.12.10/lib/python3.12/site-packages/braket/aws/aws_quantum_task.py:774: UserWarning: AwsQuantumTask.__init__ received unknown keyword args: ['memory', 'seed_simulator']\n",
      "  return AwsQuantumTask(task_arn, aws_session, *args, **kwargs)\n",
      "/Users/sesmart/coding/development/qiskit-braket-provider/qiskit_braket_provider/providers/adapter.py:673: UserWarning: The Qiskit circuit contains barrier instructions that are ignored.\n",
      "  warnings.warn(\"The Qiskit circuit contains barrier instructions that are ignored.\")\n",
      "/Users/sesmart/.local/share/mise/installs/python/3.12.10/lib/python3.12/site-packages/braket/aws/aws_quantum_task.py:774: UserWarning: AwsQuantumTask.__init__ received unknown keyword args: ['memory', 'seed_simulator']\n",
      "  return AwsQuantumTask(task_arn, aws_session, *args, **kwargs)\n",
      "/Users/sesmart/coding/development/qiskit-braket-provider/qiskit_braket_provider/providers/adapter.py:673: UserWarning: The Qiskit circuit contains barrier instructions that are ignored.\n",
      "  warnings.warn(\"The Qiskit circuit contains barrier instructions that are ignored.\")\n",
      "/Users/sesmart/.local/share/mise/installs/python/3.12.10/lib/python3.12/site-packages/braket/aws/aws_quantum_task.py:774: UserWarning: AwsQuantumTask.__init__ received unknown keyword args: ['memory', 'seed_simulator']\n",
      "  return AwsQuantumTask(task_arn, aws_session, *args, **kwargs)\n",
      "/Users/sesmart/coding/development/qiskit-braket-provider/qiskit_braket_provider/providers/adapter.py:673: UserWarning: The Qiskit circuit contains barrier instructions that are ignored.\n",
      "  warnings.warn(\"The Qiskit circuit contains barrier instructions that are ignored.\")\n",
      "/Users/sesmart/.local/share/mise/installs/python/3.12.10/lib/python3.12/site-packages/braket/aws/aws_quantum_task.py:774: UserWarning: AwsQuantumTask.__init__ received unknown keyword args: ['memory', 'seed_simulator']\n",
      "  return AwsQuantumTask(task_arn, aws_session, *args, **kwargs)\n",
      "/Users/sesmart/coding/development/qiskit-braket-provider/qiskit_braket_provider/providers/adapter.py:673: UserWarning: The Qiskit circuit contains barrier instructions that are ignored.\n",
      "  warnings.warn(\"The Qiskit circuit contains barrier instructions that are ignored.\")\n",
      "/Users/sesmart/.local/share/mise/installs/python/3.12.10/lib/python3.12/site-packages/braket/aws/aws_quantum_task.py:774: UserWarning: AwsQuantumTask.__init__ received unknown keyword args: ['memory', 'seed_simulator']\n",
      "  return AwsQuantumTask(task_arn, aws_session, *args, **kwargs)\n",
      "/Users/sesmart/coding/development/qiskit-braket-provider/qiskit_braket_provider/providers/adapter.py:673: UserWarning: The Qiskit circuit contains barrier instructions that are ignored.\n",
      "  warnings.warn(\"The Qiskit circuit contains barrier instructions that are ignored.\")\n",
      "/Users/sesmart/.local/share/mise/installs/python/3.12.10/lib/python3.12/site-packages/braket/aws/aws_quantum_task.py:774: UserWarning: AwsQuantumTask.__init__ received unknown keyword args: ['memory', 'seed_simulator']\n",
      "  return AwsQuantumTask(task_arn, aws_session, *args, **kwargs)\n",
      "/Users/sesmart/coding/development/qiskit-braket-provider/qiskit_braket_provider/providers/adapter.py:673: UserWarning: The Qiskit circuit contains barrier instructions that are ignored.\n",
      "  warnings.warn(\"The Qiskit circuit contains barrier instructions that are ignored.\")\n",
      "/Users/sesmart/.local/share/mise/installs/python/3.12.10/lib/python3.12/site-packages/braket/aws/aws_quantum_task.py:774: UserWarning: AwsQuantumTask.__init__ received unknown keyword args: ['memory', 'seed_simulator']\n",
      "  return AwsQuantumTask(task_arn, aws_session, *args, **kwargs)\n",
      "/Users/sesmart/coding/development/qiskit-braket-provider/qiskit_braket_provider/providers/adapter.py:673: UserWarning: The Qiskit circuit contains barrier instructions that are ignored.\n",
      "  warnings.warn(\"The Qiskit circuit contains barrier instructions that are ignored.\")\n",
      "/Users/sesmart/.local/share/mise/installs/python/3.12.10/lib/python3.12/site-packages/braket/aws/aws_quantum_task.py:774: UserWarning: AwsQuantumTask.__init__ received unknown keyword args: ['memory', 'seed_simulator']\n",
      "  return AwsQuantumTask(task_arn, aws_session, *args, **kwargs)\n",
      "/Users/sesmart/coding/development/qiskit-braket-provider/qiskit_braket_provider/providers/adapter.py:673: UserWarning: The Qiskit circuit contains barrier instructions that are ignored.\n",
      "  warnings.warn(\"The Qiskit circuit contains barrier instructions that are ignored.\")\n",
      "/Users/sesmart/.local/share/mise/installs/python/3.12.10/lib/python3.12/site-packages/braket/aws/aws_quantum_task.py:774: UserWarning: AwsQuantumTask.__init__ received unknown keyword args: ['memory', 'seed_simulator']\n",
      "  return AwsQuantumTask(task_arn, aws_session, *args, **kwargs)\n",
      "/Users/sesmart/coding/development/qiskit-braket-provider/qiskit_braket_provider/providers/adapter.py:673: UserWarning: The Qiskit circuit contains barrier instructions that are ignored.\n",
      "  warnings.warn(\"The Qiskit circuit contains barrier instructions that are ignored.\")\n",
      "/Users/sesmart/.local/share/mise/installs/python/3.12.10/lib/python3.12/site-packages/braket/aws/aws_quantum_task.py:774: UserWarning: AwsQuantumTask.__init__ received unknown keyword args: ['memory', 'seed_simulator']\n",
      "  return AwsQuantumTask(task_arn, aws_session, *args, **kwargs)\n",
      "/Users/sesmart/coding/development/qiskit-braket-provider/qiskit_braket_provider/providers/adapter.py:673: UserWarning: The Qiskit circuit contains barrier instructions that are ignored.\n",
      "  warnings.warn(\"The Qiskit circuit contains barrier instructions that are ignored.\")\n",
      "/Users/sesmart/.local/share/mise/installs/python/3.12.10/lib/python3.12/site-packages/braket/aws/aws_quantum_task.py:774: UserWarning: AwsQuantumTask.__init__ received unknown keyword args: ['memory', 'seed_simulator']\n",
      "  return AwsQuantumTask(task_arn, aws_session, *args, **kwargs)\n",
      "/Users/sesmart/coding/development/qiskit-braket-provider/qiskit_braket_provider/providers/adapter.py:673: UserWarning: The Qiskit circuit contains barrier instructions that are ignored.\n",
      "  warnings.warn(\"The Qiskit circuit contains barrier instructions that are ignored.\")\n",
      "/Users/sesmart/.local/share/mise/installs/python/3.12.10/lib/python3.12/site-packages/braket/aws/aws_quantum_task.py:774: UserWarning: AwsQuantumTask.__init__ received unknown keyword args: ['memory', 'seed_simulator']\n",
      "  return AwsQuantumTask(task_arn, aws_session, *args, **kwargs)\n",
      "/Users/sesmart/coding/development/qiskit-braket-provider/qiskit_braket_provider/providers/adapter.py:673: UserWarning: The Qiskit circuit contains barrier instructions that are ignored.\n",
      "  warnings.warn(\"The Qiskit circuit contains barrier instructions that are ignored.\")\n",
      "/Users/sesmart/.local/share/mise/installs/python/3.12.10/lib/python3.12/site-packages/braket/aws/aws_quantum_task.py:774: UserWarning: AwsQuantumTask.__init__ received unknown keyword args: ['memory', 'seed_simulator']\n",
      "  return AwsQuantumTask(task_arn, aws_session, *args, **kwargs)\n",
      "/Users/sesmart/coding/development/qiskit-braket-provider/qiskit_braket_provider/providers/adapter.py:673: UserWarning: The Qiskit circuit contains barrier instructions that are ignored.\n",
      "  warnings.warn(\"The Qiskit circuit contains barrier instructions that are ignored.\")\n",
      "/Users/sesmart/.local/share/mise/installs/python/3.12.10/lib/python3.12/site-packages/braket/aws/aws_quantum_task.py:774: UserWarning: AwsQuantumTask.__init__ received unknown keyword args: ['memory', 'seed_simulator']\n",
      "  return AwsQuantumTask(task_arn, aws_session, *args, **kwargs)\n",
      "/Users/sesmart/coding/development/qiskit-braket-provider/qiskit_braket_provider/providers/adapter.py:673: UserWarning: The Qiskit circuit contains barrier instructions that are ignored.\n",
      "  warnings.warn(\"The Qiskit circuit contains barrier instructions that are ignored.\")\n",
      "/Users/sesmart/.local/share/mise/installs/python/3.12.10/lib/python3.12/site-packages/braket/aws/aws_quantum_task.py:774: UserWarning: AwsQuantumTask.__init__ received unknown keyword args: ['memory', 'seed_simulator']\n",
      "  return AwsQuantumTask(task_arn, aws_session, *args, **kwargs)\n",
      "/Users/sesmart/coding/development/qiskit-braket-provider/qiskit_braket_provider/providers/adapter.py:673: UserWarning: The Qiskit circuit contains barrier instructions that are ignored.\n",
      "  warnings.warn(\"The Qiskit circuit contains barrier instructions that are ignored.\")\n",
      "/Users/sesmart/.local/share/mise/installs/python/3.12.10/lib/python3.12/site-packages/braket/aws/aws_quantum_task.py:774: UserWarning: AwsQuantumTask.__init__ received unknown keyword args: ['memory', 'seed_simulator']\n",
      "  return AwsQuantumTask(task_arn, aws_session, *args, **kwargs)\n",
      "/Users/sesmart/coding/development/qiskit-braket-provider/qiskit_braket_provider/providers/adapter.py:673: UserWarning: The Qiskit circuit contains barrier instructions that are ignored.\n",
      "  warnings.warn(\"The Qiskit circuit contains barrier instructions that are ignored.\")\n",
      "/Users/sesmart/.local/share/mise/installs/python/3.12.10/lib/python3.12/site-packages/braket/aws/aws_quantum_task.py:774: UserWarning: AwsQuantumTask.__init__ received unknown keyword args: ['memory', 'seed_simulator']\n",
      "  return AwsQuantumTask(task_arn, aws_session, *args, **kwargs)\n",
      "/Users/sesmart/coding/development/qiskit-braket-provider/qiskit_braket_provider/providers/adapter.py:673: UserWarning: The Qiskit circuit contains barrier instructions that are ignored.\n",
      "  warnings.warn(\"The Qiskit circuit contains barrier instructions that are ignored.\")\n",
      "/Users/sesmart/.local/share/mise/installs/python/3.12.10/lib/python3.12/site-packages/braket/aws/aws_quantum_task.py:774: UserWarning: AwsQuantumTask.__init__ received unknown keyword args: ['memory', 'seed_simulator']\n",
      "  return AwsQuantumTask(task_arn, aws_session, *args, **kwargs)\n",
      "/Users/sesmart/coding/development/qiskit-braket-provider/qiskit_braket_provider/providers/adapter.py:673: UserWarning: The Qiskit circuit contains barrier instructions that are ignored.\n",
      "  warnings.warn(\"The Qiskit circuit contains barrier instructions that are ignored.\")\n",
      "/Users/sesmart/.local/share/mise/installs/python/3.12.10/lib/python3.12/site-packages/braket/aws/aws_quantum_task.py:774: UserWarning: AwsQuantumTask.__init__ received unknown keyword args: ['memory', 'seed_simulator']\n",
      "  return AwsQuantumTask(task_arn, aws_session, *args, **kwargs)\n",
      "/Users/sesmart/coding/development/qiskit-braket-provider/qiskit_braket_provider/providers/adapter.py:673: UserWarning: The Qiskit circuit contains barrier instructions that are ignored.\n",
      "  warnings.warn(\"The Qiskit circuit contains barrier instructions that are ignored.\")\n",
      "/Users/sesmart/.local/share/mise/installs/python/3.12.10/lib/python3.12/site-packages/braket/aws/aws_quantum_task.py:774: UserWarning: AwsQuantumTask.__init__ received unknown keyword args: ['memory', 'seed_simulator']\n",
      "  return AwsQuantumTask(task_arn, aws_session, *args, **kwargs)\n",
      "/Users/sesmart/coding/development/qiskit-braket-provider/qiskit_braket_provider/providers/adapter.py:673: UserWarning: The Qiskit circuit contains barrier instructions that are ignored.\n",
      "  warnings.warn(\"The Qiskit circuit contains barrier instructions that are ignored.\")\n",
      "/Users/sesmart/.local/share/mise/installs/python/3.12.10/lib/python3.12/site-packages/braket/aws/aws_quantum_task.py:774: UserWarning: AwsQuantumTask.__init__ received unknown keyword args: ['memory', 'seed_simulator']\n",
      "  return AwsQuantumTask(task_arn, aws_session, *args, **kwargs)\n",
      "/Users/sesmart/coding/development/qiskit-braket-provider/qiskit_braket_provider/providers/adapter.py:673: UserWarning: The Qiskit circuit contains barrier instructions that are ignored.\n",
      "  warnings.warn(\"The Qiskit circuit contains barrier instructions that are ignored.\")\n",
      "/Users/sesmart/.local/share/mise/installs/python/3.12.10/lib/python3.12/site-packages/braket/aws/aws_quantum_task.py:774: UserWarning: AwsQuantumTask.__init__ received unknown keyword args: ['memory', 'seed_simulator']\n",
      "  return AwsQuantumTask(task_arn, aws_session, *args, **kwargs)\n",
      "/Users/sesmart/coding/development/qiskit-braket-provider/qiskit_braket_provider/providers/adapter.py:673: UserWarning: The Qiskit circuit contains barrier instructions that are ignored.\n",
      "  warnings.warn(\"The Qiskit circuit contains barrier instructions that are ignored.\")\n",
      "/Users/sesmart/.local/share/mise/installs/python/3.12.10/lib/python3.12/site-packages/braket/aws/aws_quantum_task.py:774: UserWarning: AwsQuantumTask.__init__ received unknown keyword args: ['memory', 'seed_simulator']\n",
      "  return AwsQuantumTask(task_arn, aws_session, *args, **kwargs)\n",
      "/Users/sesmart/coding/development/qiskit-braket-provider/qiskit_braket_provider/providers/adapter.py:673: UserWarning: The Qiskit circuit contains barrier instructions that are ignored.\n",
      "  warnings.warn(\"The Qiskit circuit contains barrier instructions that are ignored.\")\n",
      "/Users/sesmart/.local/share/mise/installs/python/3.12.10/lib/python3.12/site-packages/braket/aws/aws_quantum_task.py:774: UserWarning: AwsQuantumTask.__init__ received unknown keyword args: ['memory', 'seed_simulator']\n",
      "  return AwsQuantumTask(task_arn, aws_session, *args, **kwargs)\n"
     ]
    },
    {
     "name": "stdout",
     "output_type": "stream",
     "text": [
      "objective function value: -2.0\n",
      "variable values: x=0.0, y=1.0, z=0.0\n",
      "status: SUCCESS\n"
     ]
    }
   ],
   "source": [
    "rqaoa_result = rqaoa.solve(qubo)\n",
    "print(rqaoa_result.prettyprint())"
   ]
  },
  {
   "cell_type": "code",
   "execution_count": 21,
   "metadata": {
    "ExecuteTime": {
     "end_time": "2024-03-06T06:26:28.862915Z",
     "start_time": "2024-03-06T06:26:28.860735Z"
    }
   },
   "outputs": [],
   "source": [
    "filtered_samples = get_filtered_samples(\n",
    "    rqaoa_result.samples,\n",
    "    threshold=0.005,\n",
    "    allowed_status=(OptimizationResultStatus.SUCCESS,),\n",
    ")"
   ]
  },
  {
   "cell_type": "code",
   "execution_count": 22,
   "metadata": {
    "ExecuteTime": {
     "end_time": "2024-03-06T06:26:28.866284Z",
     "start_time": "2024-03-06T06:26:28.863663Z"
    }
   },
   "outputs": [
    {
     "data": {
      "text/plain": [
       "{'x=0 y=1 z=0': 1.0}"
      ]
     },
     "execution_count": 22,
     "metadata": {},
     "output_type": "execute_result"
    }
   ],
   "source": [
    "samples_for_plot = {\n",
    "    \" \".join(f\"{rqaoa_result.variables[i].name}={int(v)}\" for i, v in enumerate(s.x)): s.probability\n",
    "    for s in filtered_samples\n",
    "}\n",
    "samples_for_plot"
   ]
  },
  {
   "cell_type": "code",
   "execution_count": 23,
   "metadata": {
    "ExecuteTime": {
     "end_time": "2024-03-06T06:26:28.910451Z",
     "start_time": "2024-03-06T06:26:28.867042Z"
    }
   },
   "outputs": [
    {
     "data": {
      "image/png": "[encoded data removed]",
      "text/plain": [
       "<Figure size 640x480 with 1 Axes>"
      ]
     },
     "execution_count": 23,
     "metadata": {},
     "output_type": "execute_result"
    }
   ],
   "source": [
    "plot_histogram(samples_for_plot)"
   ]
  }
 ],
 "metadata": {
  "kernelspec": {
   "display_name": "Python 3",
   "language": "python",
   "name": "python3"
  },
  "language_info": {
   "codemirror_mode": {
    "name": "ipython",
    "version": 3
   },
   "file_extension": ".py",
   "mimetype": "text/x-python",
   "name": "python",
   "nbconvert_exporter": "python",
   "pygments_lexer": "ipython3",
   "version": "3.12.10"
  }
 },
 "nbformat": 4,
 "nbformat_minor": 4
}
